{
 "cells": [
  {
   "cell_type": "code",
   "execution_count": 4,
   "id": "1cd3be64",
   "metadata": {},
   "outputs": [],
   "source": [
    "str = \"刑法第二百八十四條第一項前段之過失傷害罪，法定刑為六月以下有期徒刑、拘役或五百元以下罰金，本條雖未經修正，然據修正後刑法施行法增訂第一條之一\""
   ]
  },
  {
   "cell_type": "code",
   "execution_count": 5,
   "id": "1f5a1b75",
   "metadata": {},
   "outputs": [
    {
     "data": {
      "text/plain": [
       "'刑法第二百八十四條第一項前段之過失傷害罪，法定刑為六月以下有期徒刑、拘役或五百元以下罰金，本條雖未經修正，然據修正後刑法施行法增訂第一條之一'"
      ]
     },
     "execution_count": 5,
     "metadata": {},
     "output_type": "execute_result"
    }
   ],
   "source": [
    "str"
   ]
  },
  {
   "cell_type": "code",
   "execution_count": 6,
   "id": "e84a900a",
   "metadata": {},
   "outputs": [
    {
     "name": "stdout",
     "output_type": "stream",
     "text": [
      "刑法第二百八十四條第一項前段之過失傷害罪，法定刑為六月以下有期徒刑、拘役或五百元以下罰金，本條雖未經修正，然據修正後刑法施行法增訂第一條之一\n"
     ]
    }
   ],
   "source": [
    "print(str)"
   ]
  },
  {
   "cell_type": "code",
   "execution_count": 21,
   "id": "8aee4814",
   "metadata": {},
   "outputs": [],
   "source": [
    "money=500\n",
    "month=6"
   ]
  },
  {
   "cell_type": "code",
   "execution_count": 22,
   "id": "0af96c08",
   "metadata": {},
   "outputs": [
    {
     "data": {
      "text/plain": [
       "500"
      ]
     },
     "execution_count": 22,
     "metadata": {},
     "output_type": "execute_result"
    }
   ],
   "source": [
    "money"
   ]
  },
  {
   "cell_type": "code",
   "execution_count": 23,
   "id": "dc4d2301",
   "metadata": {},
   "outputs": [
    {
     "data": {
      "text/plain": [
       "6"
      ]
     },
     "execution_count": 23,
     "metadata": {},
     "output_type": "execute_result"
    }
   ],
   "source": [
    "month"
   ]
  },
  {
   "cell_type": "code",
   "execution_count": 24,
   "id": "5c3d6273",
   "metadata": {},
   "outputs": [
    {
     "name": "stdout",
     "output_type": "stream",
     "text": [
      "500\n"
     ]
    }
   ],
   "source": [
    "print(money)"
   ]
  },
  {
   "cell_type": "code",
   "execution_count": 25,
   "id": "c9f98694",
   "metadata": {},
   "outputs": [
    {
     "name": "stdout",
     "output_type": "stream",
     "text": [
      "6\n"
     ]
    }
   ],
   "source": [
    "print(month)"
   ]
  },
  {
   "cell_type": "code",
   "execution_count": 26,
   "id": "fcd935dd",
   "metadata": {},
   "outputs": [
    {
     "name": "stdout",
     "output_type": "stream",
     "text": [
      "罰金 500 元\n"
     ]
    }
   ],
   "source": [
    "print(\"罰金\",money,\"元\")"
   ]
  },
  {
   "cell_type": "code",
   "execution_count": null,
   "id": "3a03a1a6",
   "metadata": {},
   "outputs": [],
   "source": []
  }
 ],
 "metadata": {
  "kernelspec": {
   "display_name": "Python 3 (ipykernel)",
   "language": "python",
   "name": "python3"
  },
  "language_info": {
   "codemirror_mode": {
    "name": "ipython",
    "version": 3
   },
   "file_extension": ".py",
   "mimetype": "text/x-python",
   "name": "python",
   "nbconvert_exporter": "python",
   "pygments_lexer": "ipython3",
   "version": "3.9.12"
  }
 },
 "nbformat": 4,
 "nbformat_minor": 5
}
