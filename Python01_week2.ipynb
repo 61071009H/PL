{
 "cells": [
  {
   "cell_type": "code",
   "execution_count": 4,
   "id": "c4ed2544",
   "metadata": {},
   "outputs": [],
   "source": [
    "str = \"刑法第二百八十四條第一項前段之過失傷害罪，法定刑為六月以下有期徒刑、拘役或五百元以下罰金，本條雖未經修正，然據修正後刑法施行法增訂第一條之一\""
   ]
  },
  {
   "cell_type": "code",
   "execution_count": 5,
   "id": "b45beddb",
   "metadata": {},
   "outputs": [
    {
     "data": {
      "text/plain": [
       "'刑法第二百八十四條第一項前段之過失傷害罪，法定刑為六月以下有期徒刑、拘役或五百元以下罰金，本條雖未經修正，然據修正後刑法施行法增訂第一條之一'"
      ]
     },
     "execution_count": 5,
     "metadata": {},
     "output_type": "execute_result"
    }
   ],
   "source": [
    "str"
   ]
  },
  {
   "cell_type": "code",
   "execution_count": 6,
   "id": "5b398e01",
   "metadata": {},
   "outputs": [
    {
     "name": "stdout",
     "output_type": "stream",
     "text": [
      "刑法第二百八十四條第一項前段之過失傷害罪，法定刑為六月以下有期徒刑、拘役或五百元以下罰金，本條雖未經修正，然據修正後刑法施行法增訂第一條之一\n"
     ]
    }
   ],
   "source": [
    "print(str)"
   ]
  },
  {
   "cell_type": "code",
   "execution_count": 21,
   "id": "97b0951b",
   "metadata": {},
   "outputs": [],
   "source": [
    "money=500\n",
    "month=6"
   ]
  },
  {
   "cell_type": "code",
   "execution_count": 22,
   "id": "47f41f66",
   "metadata": {},
   "outputs": [
    {
     "data": {
      "text/plain": [
       "500"
      ]
     },
     "execution_count": 22,
     "metadata": {},
     "output_type": "execute_result"
    }
   ],
   "source": [
    "money"
   ]
  },
  {
   "cell_type": "code",
   "execution_count": 23,
   "id": "ba15783a",
   "metadata": {},
   "outputs": [
    {
     "data": {
      "text/plain": [
       "6"
      ]
     },
     "execution_count": 23,
     "metadata": {},
     "output_type": "execute_result"
    }
   ],
   "source": [
    "month"
   ]
  },
  {
   "cell_type": "code",
   "execution_count": 24,
   "id": "9ea0f5b7",
   "metadata": {},
   "outputs": [
    {
     "name": "stdout",
     "output_type": "stream",
     "text": [
      "500\n"
     ]
    }
   ],
   "source": [
    "print(money)"
   ]
  },
  {
   "cell_type": "code",
   "execution_count": 25,
   "id": "5786787c",
   "metadata": {},
   "outputs": [
    {
     "name": "stdout",
     "output_type": "stream",
     "text": [
      "6\n"
     ]
    }
   ],
   "source": [
    "print(month)"
   ]
  },
  {
   "cell_type": "code",
   "execution_count": 26,
   "id": "3ec28ea8",
   "metadata": {},
   "outputs": [
    {
     "name": "stdout",
     "output_type": "stream",
     "text": [
      "罰金 500 元\n"
     ]
    }
   ],
   "source": [
    "print(\"罰金\",money,\"元\")"
   ]
  },
  {
   "cell_type": "code",
   "execution_count": 43,
   "id": "04b46d48",
   "metadata": {},
   "outputs": [],
   "source": [
    "A=0.7\n",
    "B=0.3\n",
    "money=25688"
   ]
  },
  {
   "cell_type": "code",
   "execution_count": 45,
   "id": "d356234d",
   "metadata": {},
   "outputs": [
    {
     "name": "stdout",
     "output_type": "stream",
     "text": [
      "被告應負擔 17981 元整\n"
     ]
    }
   ],
   "source": [
    "print(\"被告應負擔\",int(money*A),\"元整\")"
   ]
  },
  {
   "cell_type": "code",
   "execution_count": 46,
   "id": "bf26c9d5",
   "metadata": {},
   "outputs": [
    {
     "name": "stdout",
     "output_type": "stream",
     "text": [
      "原告應負擔 7706 元整\n"
     ]
    }
   ],
   "source": [
    "print(\"原告應負擔\",int(money*B),\"元整\")"
   ]
  },
  {
   "cell_type": "code",
   "execution_count": null,
   "id": "f875b827",
   "metadata": {},
   "outputs": [],
   "source": []
  }
 ],
 "metadata": {
  "kernelspec": {
   "display_name": "Python 3 (ipykernel)",
   "language": "python",
   "name": "python3"
  },
  "language_info": {
   "codemirror_mode": {
    "name": "ipython",
    "version": 3
   },
   "file_extension": ".py",
   "mimetype": "text/x-python",
   "name": "python",
   "nbconvert_exporter": "python",
   "pygments_lexer": "ipython3",
   "version": "3.9.12"
  }
 },
 "nbformat": 4,
 "nbformat_minor": 5
}
