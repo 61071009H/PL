{
 "cells": [
  {
   "cell_type": "code",
   "execution_count": 7,
   "id": "0d45bb69",
   "metadata": {},
   "outputs": [],
   "source": [
    "import requests\n",
    "from bs4 import BeautifulSoup\n",
    "\n",
    "def crawl(url):\n",
    "  # 發送 HTTP 請求並取得回應\n",
    "  response = requests.get(url)\n",
    "\n",
    "  # 將 HTML 原始碼轉換成 BeautifulSoup 物件\n",
    "  soup = BeautifulSoup(response.text, 'html.parser')\n",
    "\n",
    "  # 取得頁面所有的文章標題\n",
    "  titles = soup.find_all('h2')\n",
    "  for title in titles:\n",
    "    print(title.text)\n",
    "\n",
    "# 爬取網頁主函式\n",
    "def main():\n",
    "  # 要爬取的 URL\n",
    "  url = 'https://www.ptt.cc/bbs/KoreanPop/index.html'\n",
    "  crawl(url)\n",
    "\n",
    "if __name__ == '__main__':\n",
    "  main()\n",
    "\n",
    "#參考資料"
   ]
  },
  {
   "cell_type": "code",
   "execution_count": 21,
   "id": "cf0bdb9d",
   "metadata": {},
   "outputs": [],
   "source": [
    "import urllib.request as req\n",
    "import json\n",
    "import pandas as pd\n",
    "import csv\n",
    "#先把會需要用到的套件先加入\n",
    "\n",
    "url = \"https://www.ptt.cc/bbs/KoreanPop/index.html\"\n",
    "#想要爬蟲的網頁網址，此網頁是ptt的koreanpop\n",
    "\n",
    "request = req.Request(url, headers = {\n",
    "    \"User-Agent\":\"Mozilla/5.0 (Windows NT 10.0; Win64; x64) AppleWebKit/537.36 (KHTML, like Gecko) Chrome/107.0.0.0 Safari/537.36\"\n",
    "})\n",
    "#附加Resquest Headers 的資訊\n",
    "\n",
    "with req.urlopen(request) as response:\n",
    "    data =response.read().decode(\"utf-8\")"
   ]
  },
  {
   "cell_type": "code",
   "execution_count": 22,
   "id": "22931806",
   "metadata": {},
   "outputs": [
    {
     "name": "stdout",
     "output_type": "stream",
     "text": [
      "[影音] YOUNITE - 'Bestie' Special Video\n",
      "[影音] TEMPEST - 'Raise Me Up' Special Clip\n",
      "[影音] 221224 2022 SBS 歌謠大戰\n",
      "[公告] KoreanPop板板規/置底檢舉區/板務討論區\n",
      "[公告] 置底閒聊文\n",
      "[公告] 置底問歌文\n"
     ]
    }
   ],
   "source": [
    "import bs4\n",
    "root = bs4.BeautifulSoup(data, \"html.parser\")\n",
    "titles = root.find_all(\"div\", class_=\"title\")\n",
    "for title in titles:\n",
    "    print(title.a.string)\n",
    "    \n",
    "#找尋有標題的資料將其印出"
   ]
  },
  {
   "cell_type": "code",
   "execution_count": 23,
   "id": "a5d5edc2",
   "metadata": {},
   "outputs": [
    {
     "data": {
      "text/plain": [
       "[\"[影音] YOUNITE - 'Bestie' Special Video\",\n",
       " \"[影音] TEMPEST - 'Raise Me Up' Special Clip\",\n",
       " '[影音] 221224 2022 SBS 歌謠大戰',\n",
       " '[公告] KoreanPop板板規/置底檢舉區/板務討論區',\n",
       " '[公告] 置底閒聊文',\n",
       " '[公告] 置底問歌文']"
      ]
     },
     "execution_count": 23,
     "metadata": {},
     "output_type": "execute_result"
    }
   ],
   "source": [
    "temp = []\n",
    "for title in titles:\n",
    "    temp.append(title.a.string)\n",
    "\n",
    "temp\n",
    "\n",
    "#[]出現將資料加入(第一次作業有使用過)"
   ]
  },
  {
   "cell_type": "code",
   "execution_count": 24,
   "id": "f89a054f",
   "metadata": {},
   "outputs": [
    {
     "name": "stdout",
     "output_type": "stream",
     "text": [
      "                                           0\n",
      "0      [影音] YOUNITE - 'Bestie' Special Video\n",
      "1  [影音] TEMPEST - 'Raise Me Up' Special Clip\n",
      "2                  [影音] 221224 2022 SBS 歌謠大戰\n",
      "3              [公告] KoreanPop板板規/置底檢舉區/板務討論區\n",
      "4                                 [公告] 置底閒聊文\n",
      "5                                 [公告] 置底問歌文\n"
     ]
    }
   ],
   "source": [
    "DataFrame = pd.DataFrame(temp)\n",
    "print(DataFrame)\n",
    "\n",
    "#變成DataFrame"
   ]
  },
  {
   "cell_type": "code",
   "execution_count": 25,
   "id": "7ca4c538",
   "metadata": {},
   "outputs": [
    {
     "data": {
      "text/plain": [
       "{0: {0: \"[影音] YOUNITE - 'Bestie' Special Video\",\n",
       "  1: \"[影音] TEMPEST - 'Raise Me Up' Special Clip\",\n",
       "  2: '[影音] 221224 2022 SBS 歌謠大戰',\n",
       "  3: '[公告] KoreanPop板板規/置底檢舉區/板務討論區',\n",
       "  4: '[公告] 置底閒聊文',\n",
       "  5: '[公告] 置底問歌文'}}"
      ]
     },
     "execution_count": 25,
     "metadata": {},
     "output_type": "execute_result"
    }
   ],
   "source": [
    "temp = DataFrame.to_dict()\n",
    "type(temp)\n",
    "temp\n",
    "\n",
    "#DataFrame轉dict"
   ]
  },
  {
   "cell_type": "code",
   "execution_count": 26,
   "id": "1b3ee750",
   "metadata": {},
   "outputs": [
    {
     "name": "stdout",
     "output_type": "stream",
     "text": [
      "\"[影音] YOUNITE - 'Bestie' Special Video\"\n",
      "\"[影音] TEMPEST - 'Raise Me Up' Special Clip\"\n",
      "\"[影音] 221224 2022 SBS 歌謠大戰\"\n",
      "\"[公告] KoreanPop板板規/置底檢舉區/板務討論區\"\n",
      "\"[公告] 置底閒聊文\"\n",
      "\"[公告] 置底問歌文\"\n"
     ]
    }
   ],
   "source": [
    "temp = []\n",
    "for title in titles:\n",
    "    if title.a !=None: # 如果標題包含 a 標籤(仍存在於網頁上)，就印出來\n",
    "        finish = title.a.string \n",
    "        json_dict = json.dumps(finish,ensure_ascii=False).encode('utf8')\n",
    "        decode = json_dict.decode()\n",
    "        temp.append(decode)\n",
    "        print(decode)\n",
    "\n",
    "# 轉成csv檔"
   ]
  },
  {
   "cell_type": "code",
   "execution_count": 31,
   "id": "cdd79ce8",
   "metadata": {},
   "outputs": [
    {
     "name": "stdout",
     "output_type": "stream",
     "text": [
      "koreanpop.csv已轉換及下載！\n"
     ]
    }
   ],
   "source": [
    "with open('koreanpop.csv', 'w', encoding='utf-8') as file:\n",
    "    json.dump(temp, file, ensure_ascii=False)  \n",
    "    \n",
    "print(\"koreanpop.csv已轉換及下載！\")\n",
    "\n",
    "#csv檔下載"
   ]
  },
  {
   "cell_type": "code",
   "execution_count": 32,
   "id": "dbacf4cb",
   "metadata": {},
   "outputs": [
    {
     "name": "stdout",
     "output_type": "stream",
     "text": [
      "koreanpop.json已轉換及下載！\n"
     ]
    }
   ],
   "source": [
    "with open('koreanpop.json', 'w', encoding='utf-8') as file:\n",
    "    json.dump(temp, file, ensure_ascii=False)  \n",
    "    \n",
    "print(\"koreanpop.json已轉換及下載！\")\n",
    "\n",
    "#dict轉json檔並下載"
   ]
  },
  {
   "cell_type": "code",
   "execution_count": null,
   "id": "c54ac3a3",
   "metadata": {},
   "outputs": [],
   "source": []
  }
 ],
 "metadata": {
  "kernelspec": {
   "display_name": "Python 3 (ipykernel)",
   "language": "python",
   "name": "python3"
  },
  "language_info": {
   "codemirror_mode": {
    "name": "ipython",
    "version": 3
   },
   "file_extension": ".py",
   "mimetype": "text/x-python",
   "name": "python",
   "nbconvert_exporter": "python",
   "pygments_lexer": "ipython3",
   "version": "3.9.12"
  }
 },
 "nbformat": 4,
 "nbformat_minor": 5
}
