{
 "cells": [
  {
   "cell_type": "code",
   "execution_count": null,
   "id": "62d2be34",
   "metadata": {},
   "outputs": [],
   "source": [
    "import requests\n",
    "from bs4 import BeautifulSoup\n",
    "\n",
    "def crawl(url):\n",
    "  # 發送 HTTP 請求並取得回應\n",
    "  response = requests.get(url)\n",
    "\n",
    "  # 將 HTML 原始碼轉換成 BeautifulSoup 物件\n",
    "  soup = BeautifulSoup(response.text, 'html.parser')\n",
    "\n",
    "  # 取得頁面所有的文章標題\n",
    "  titles = soup.find_all('h2')\n",
    "  for title in titles:\n",
    "    print(title.text)\n",
    "\n",
    "# 爬取網頁主函式\n",
    "def main():\n",
    "  # 要爬取的 URL\n",
    "  url = 'https://www.example.com/articles'\n",
    "  crawl(url)\n",
    "\n",
    "if __name__ == '__main__':\n",
    "  main()"
   ]
  }
 ],
 "metadata": {
  "kernelspec": {
   "display_name": "Python 3 (ipykernel)",
   "language": "python",
   "name": "python3"
  },
  "language_info": {
   "codemirror_mode": {
    "name": "ipython",
    "version": 3
   },
   "file_extension": ".py",
   "mimetype": "text/x-python",
   "name": "python",
   "nbconvert_exporter": "python",
   "pygments_lexer": "ipython3",
   "version": "3.9.12"
  }
 },
 "nbformat": 4,
 "nbformat_minor": 5
}
