{
 "cells": [
  {
   "cell_type": "markdown",
   "id": "da2e31d1",
   "metadata": {},
   "source": [
    "# 第五次作業-國民中學名錄"
   ]
  },
  {
   "cell_type": "code",
   "execution_count": 2,
   "id": "553b3d2f",
   "metadata": {},
   "outputs": [],
   "source": [
    "import jieba\n",
    "import jieba.analyse\n",
    "import pandas as pd\n",
    "import numpy as np\n",
    "import re\n",
    "from collections import Counter"
   ]
  },
  {
   "cell_type": "code",
   "execution_count": 3,
   "id": "245dc7c1",
   "metadata": {},
   "outputs": [],
   "source": [
    "from PIL import Image\n",
    "import matplotlib.pyplot as plt\n",
    "from wordcloud import WordCloud"
   ]
  },
  {
   "cell_type": "code",
   "execution_count": 4,
   "id": "2b423e7c",
   "metadata": {},
   "outputs": [
    {
     "data": {
      "text/html": [
       "<div>\n",
       "<style scoped>\n",
       "    .dataframe tbody tr th:only-of-type {\n",
       "        vertical-align: middle;\n",
       "    }\n",
       "\n",
       "    .dataframe tbody tr th {\n",
       "        vertical-align: top;\n",
       "    }\n",
       "\n",
       "    .dataframe thead th {\n",
       "        text-align: right;\n",
       "    }\n",
       "</style>\n",
       "<table border=\"1\" class=\"dataframe\">\n",
       "  <thead>\n",
       "    <tr style=\"text-align: right;\">\n",
       "      <th></th>\n",
       "      <th>代碼</th>\n",
       "      <th>學校名稱</th>\n",
       "      <th>公/私立</th>\n",
       "      <th>縣市名稱</th>\n",
       "      <th>地址</th>\n",
       "      <th>電話</th>\n",
       "      <th>網址</th>\n",
       "    </tr>\n",
       "  </thead>\n",
       "  <tbody>\n",
       "    <tr>\n",
       "      <th>0</th>\n",
       "      <td>14501</td>\n",
       "      <td>市立板橋國中</td>\n",
       "      <td>公立</td>\n",
       "      <td>[01]新北市</td>\n",
       "      <td>[220]新北市板橋區中正路437號</td>\n",
       "      <td>(02)29666498#234</td>\n",
       "      <td>http://www.pcjh.ntpc.edu.tw</td>\n",
       "    </tr>\n",
       "    <tr>\n",
       "      <th>1</th>\n",
       "      <td>14503</td>\n",
       "      <td>市立重慶國中</td>\n",
       "      <td>公立</td>\n",
       "      <td>[01]新北市</td>\n",
       "      <td>[220]新北市板橋區國慶路221號</td>\n",
       "      <td>(02)29543001</td>\n",
       "      <td>http://www.ccjh.ntpc.edu.tw</td>\n",
       "    </tr>\n",
       "    <tr>\n",
       "      <th>2</th>\n",
       "      <td>14504</td>\n",
       "      <td>市立江翠國中</td>\n",
       "      <td>公立</td>\n",
       "      <td>[01]新北市</td>\n",
       "      <td>[220]新北市板橋區松江街63號</td>\n",
       "      <td>(02)22513256</td>\n",
       "      <td>http://www.ctjh.ntpc.edu.tw</td>\n",
       "    </tr>\n",
       "    <tr>\n",
       "      <th>3</th>\n",
       "      <td>14505</td>\n",
       "      <td>市立中山國中</td>\n",
       "      <td>公立</td>\n",
       "      <td>[01]新北市</td>\n",
       "      <td>[220]新北市板橋區文化路一段188巷56號</td>\n",
       "      <td>(02)22508250#201</td>\n",
       "      <td>http://www.csjh.ntpc.edu.tw</td>\n",
       "    </tr>\n",
       "    <tr>\n",
       "      <th>4</th>\n",
       "      <td>14506</td>\n",
       "      <td>市立新埔國中</td>\n",
       "      <td>公立</td>\n",
       "      <td>[01]新北市</td>\n",
       "      <td>[220]新北市板橋區新海路181號</td>\n",
       "      <td>(02)22572275</td>\n",
       "      <td>http://www.hpjh.ntpc.edu.tw</td>\n",
       "    </tr>\n",
       "  </tbody>\n",
       "</table>\n",
       "</div>"
      ],
      "text/plain": [
       "      代碼    學校名稱 公/私立     縣市名稱                       地址                電話  \\\n",
       "0  14501  市立板橋國中   公立  [01]新北市       [220]新北市板橋區中正路437號  (02)29666498#234   \n",
       "1  14503  市立重慶國中   公立  [01]新北市       [220]新北市板橋區國慶路221號      (02)29543001   \n",
       "2  14504  市立江翠國中   公立  [01]新北市        [220]新北市板橋區松江街63號      (02)22513256   \n",
       "3  14505  市立中山國中   公立  [01]新北市  [220]新北市板橋區文化路一段188巷56號  (02)22508250#201   \n",
       "4  14506  市立新埔國中   公立  [01]新北市       [220]新北市板橋區新海路181號      (02)22572275   \n",
       "\n",
       "                            網址  \n",
       "0  http://www.pcjh.ntpc.edu.tw  \n",
       "1  http://www.ccjh.ntpc.edu.tw  \n",
       "2  http://www.ctjh.ntpc.edu.tw  \n",
       "3  http://www.csjh.ntpc.edu.tw  \n",
       "4  http://www.hpjh.ntpc.edu.tw  "
      ]
     },
     "execution_count": 4,
     "metadata": {},
     "output_type": "execute_result"
    }
   ],
   "source": [
    "\n",
    "orgdata = pd.read_csv('j1_new.csv')\n",
    "orgdata.head()\n",
    "\n",
    "\n",
    "#資料來源:https://data.gov.tw/dataset/6088(國民中學名錄)"
   ]
  },
  {
   "cell_type": "code",
   "execution_count": 5,
   "id": "681b83ea",
   "metadata": {},
   "outputs": [
    {
     "name": "stderr",
     "output_type": "stream",
     "text": [
      "Building prefix dict from the default dictionary ...\n",
      "Loading model from cache C:\\Users\\吳詩怡\\AppData\\Local\\Temp\\jieba.cache\n",
      "Loading model cost 0.872 seconds.\n",
      "Prefix dict has been built successfully.\n"
     ]
    },
    {
     "name": "stdout",
     "output_type": "stream",
     "text": [
      "[/220/]/新北市/板橋區/中正路/437/號\n"
     ]
    }
   ],
   "source": [
    "documents = ['[220]新北市板橋區中正路437號']\n",
    "# 精確模式\n",
    "for sentence in documents:\n",
    "    seg_list = jieba.cut(sentence)\n",
    "    print('/'.join(seg_list))"
   ]
  },
  {
   "cell_type": "code",
   "execution_count": 6,
   "id": "0599a2d1",
   "metadata": {},
   "outputs": [
    {
     "data": {
      "text/html": [
       "<div>\n",
       "<style scoped>\n",
       "    .dataframe tbody tr th:only-of-type {\n",
       "        vertical-align: middle;\n",
       "    }\n",
       "\n",
       "    .dataframe tbody tr th {\n",
       "        vertical-align: top;\n",
       "    }\n",
       "\n",
       "    .dataframe thead th {\n",
       "        text-align: right;\n",
       "    }\n",
       "</style>\n",
       "<table border=\"1\" class=\"dataframe\">\n",
       "  <thead>\n",
       "    <tr style=\"text-align: right;\">\n",
       "      <th></th>\n",
       "      <th>代碼</th>\n",
       "      <th>學校名稱</th>\n",
       "      <th>公/私立</th>\n",
       "      <th>縣市名稱</th>\n",
       "      <th>地址</th>\n",
       "      <th>電話</th>\n",
       "      <th>網址</th>\n",
       "      <th>seg</th>\n",
       "    </tr>\n",
       "  </thead>\n",
       "  <tbody>\n",
       "    <tr>\n",
       "      <th>0</th>\n",
       "      <td>14501</td>\n",
       "      <td>市立板橋國中</td>\n",
       "      <td>公立</td>\n",
       "      <td>[01]新北市</td>\n",
       "      <td>[220]新北市板橋區中正路437號</td>\n",
       "      <td>(02)29666498#234</td>\n",
       "      <td>http://www.pcjh.ntpc.edu.tw</td>\n",
       "      <td></td>\n",
       "    </tr>\n",
       "    <tr>\n",
       "      <th>1</th>\n",
       "      <td>14503</td>\n",
       "      <td>市立重慶國中</td>\n",
       "      <td>公立</td>\n",
       "      <td>[01]新北市</td>\n",
       "      <td>[220]新北市板橋區國慶路221號</td>\n",
       "      <td>(02)29543001</td>\n",
       "      <td>http://www.ccjh.ntpc.edu.tw</td>\n",
       "      <td></td>\n",
       "    </tr>\n",
       "    <tr>\n",
       "      <th>2</th>\n",
       "      <td>14504</td>\n",
       "      <td>市立江翠國中</td>\n",
       "      <td>公立</td>\n",
       "      <td>[01]新北市</td>\n",
       "      <td>[220]新北市板橋區松江街63號</td>\n",
       "      <td>(02)22513256</td>\n",
       "      <td>http://www.ctjh.ntpc.edu.tw</td>\n",
       "      <td></td>\n",
       "    </tr>\n",
       "    <tr>\n",
       "      <th>3</th>\n",
       "      <td>14505</td>\n",
       "      <td>市立中山國中</td>\n",
       "      <td>公立</td>\n",
       "      <td>[01]新北市</td>\n",
       "      <td>[220]新北市板橋區文化路一段188巷56號</td>\n",
       "      <td>(02)22508250#201</td>\n",
       "      <td>http://www.csjh.ntpc.edu.tw</td>\n",
       "      <td></td>\n",
       "    </tr>\n",
       "    <tr>\n",
       "      <th>4</th>\n",
       "      <td>14506</td>\n",
       "      <td>市立新埔國中</td>\n",
       "      <td>公立</td>\n",
       "      <td>[01]新北市</td>\n",
       "      <td>[220]新北市板橋區新海路181號</td>\n",
       "      <td>(02)22572275</td>\n",
       "      <td>http://www.hpjh.ntpc.edu.tw</td>\n",
       "      <td></td>\n",
       "    </tr>\n",
       "  </tbody>\n",
       "</table>\n",
       "</div>"
      ],
      "text/plain": [
       "      代碼    學校名稱 公/私立     縣市名稱                       地址                電話  \\\n",
       "0  14501  市立板橋國中   公立  [01]新北市       [220]新北市板橋區中正路437號  (02)29666498#234   \n",
       "1  14503  市立重慶國中   公立  [01]新北市       [220]新北市板橋區國慶路221號      (02)29543001   \n",
       "2  14504  市立江翠國中   公立  [01]新北市        [220]新北市板橋區松江街63號      (02)22513256   \n",
       "3  14505  市立中山國中   公立  [01]新北市  [220]新北市板橋區文化路一段188巷56號  (02)22508250#201   \n",
       "4  14506  市立新埔國中   公立  [01]新北市       [220]新北市板橋區新海路181號      (02)22572275   \n",
       "\n",
       "                            網址 seg  \n",
       "0  http://www.pcjh.ntpc.edu.tw      \n",
       "1  http://www.ccjh.ntpc.edu.tw      \n",
       "2  http://www.ctjh.ntpc.edu.tw      \n",
       "3  http://www.csjh.ntpc.edu.tw      \n",
       "4  http://www.hpjh.ntpc.edu.tw      "
      ]
     },
     "execution_count": 6,
     "metadata": {},
     "output_type": "execute_result"
    }
   ],
   "source": [
    "orgdata['seg'] = \"\"\n",
    "orgdata.head()"
   ]
  },
  {
   "cell_type": "code",
   "execution_count": null,
   "id": "255b86d6",
   "metadata": {},
   "outputs": [],
   "source": [
    "jieba.analyse.set_stop_words('stopwords.txt')\n",
    "index = 0\n",
    "for documents in orgdata['地址']: \n",
    "    seg_list = jieba.analyse.extract_tags(documents, topK=150) \n",
    "    orgdata['seg'].iloc[index] = seg_list\n",
    "    index += 1"
   ]
  }
 ],
 "metadata": {
  "kernelspec": {
   "display_name": "Python 3 (ipykernel)",
   "language": "python",
   "name": "python3"
  },
  "language_info": {
   "codemirror_mode": {
    "name": "ipython",
    "version": 3
   },
   "file_extension": ".py",
   "mimetype": "text/x-python",
   "name": "python",
   "nbconvert_exporter": "python",
   "pygments_lexer": "ipython3",
   "version": "3.9.12"
  }
 },
 "nbformat": 4,
 "nbformat_minor": 5
}
