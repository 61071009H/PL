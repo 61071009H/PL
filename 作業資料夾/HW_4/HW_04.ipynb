{
 "cells": [
  {
   "cell_type": "code",
   "execution_count": null,
   "id": "445e25c8",
   "metadata": {},
   "outputs": [],
   "source": [
    "from wordcloud import WordCloud, STOPWORDS\n",
    "import matplotlib.pyplot as plt\n",
    "\n",
    "# Read the whole text.\n",
    "txtfile = \"c:/test-wordcloud/cnn.txt\" # 剛才下載存的文字檔\n",
    "text = open(txtfile,\"r\",encoding=\"utf-8\").read()\n",
    "\n",
    "# Generate a word cloud image\n",
    "wordcloud = WordCloud().generate(text)\n",
    "\n",
    "# 繪圖\n",
    "plt.figure()\n",
    "plt.imshow(wordcloud, interpolation=\"bilinear\")\n",
    "plt.axis(\"off\")\n",
    "plt.show()\n",
    "\n",
    "#參考資料"
   ]
  },
  {
   "cell_type": "code",
   "execution_count": null,
   "id": "8f33a238",
   "metadata": {},
   "outputs": [],
   "source": [
    "import nltk\n",
    "from nltk.corpus import stopwords\n",
    "from nltk.tokenize import word_tokenize\n",
    "\n",
    "def preprocess(text):\n",
    "  # 將文字轉換成小寫\n",
    "  text = text.lower()\n",
    "  # 去除文字中的标点符号\n",
    "  text = text.strip(string.punctuation)\n",
    "  # 分詞\n",
    "  tokens = word_tokenize(text)\n",
    "  # 去除停用詞\n",
    "  filtered_tokens = [token for token in tokens if token not in stopwords.words('english')]\n",
    "  # 返回处理后的文字\n",
    "  return filtered_tokens\n",
    "\n",
    "def word_count(tokens):\n",
    "  # 建立一個字典，用來計算每個詞出現的次數\n",
    "  word_counts = {}\n",
    "  for token in tokens:\n",
    "    if token in word_counts:\n",
    "      word_counts[token] += 1\n",
    "    else:\n",
    "      word_counts[token] = 1\n",
    "  return word_counts\n",
    "\n",
    "def main():\n",
    "  # 要探勘的文本\n",
    "  text = \"This is a sample text for text mining.\"\n",
    "  # 預處理文本\n",
    "  tokens = preprocess(text)\n",
    "  # 計算每個詞出現的次數\n",
    "  word_counts = word_count(tokens)\n",
    "  # 印出結果\n",
    "  print(word_counts)\n",
    "\n",
    "if __name__ == '__main__':\n",
    "  main()\n",
    "\n",
    "#參考資料"
   ]
  },
  {
   "cell_type": "code",
   "execution_count": 1,
   "id": "6bc9d090",
   "metadata": {},
   "outputs": [
    {
     "ename": "IndentationError",
     "evalue": "expected an indented block (567629157.py, line 4)",
     "output_type": "error",
     "traceback": [
      "\u001b[1;36m  Input \u001b[1;32mIn [1]\u001b[1;36m\u001b[0m\n\u001b[1;33m    rd = csv.reader(f, delimiter=\"\\t\", quotechar='\"')\u001b[0m\n\u001b[1;37m    ^\u001b[0m\n\u001b[1;31mIndentationError\u001b[0m\u001b[1;31m:\u001b[0m expected an indented block\n"
     ]
    }
   ],
   "source": [
    "import csv\n",
    "import pandas as pd\n",
    "with open('https://www.storm.mg/lifestyle/76245?page=1', 'r') as f:\n",
    "rd = csv.reader(f, delimiter=\"\\t\", quotechar='\"')\n",
    "df_train = pd.DataFrame(rd, columns=['id', 'sentiment', 'review'])\n",
    "df_train = df_train.drop(0)\n",
    "df_train.head()"
   ]
  },
  {
   "cell_type": "code",
   "execution_count": 1,
   "id": "325df162",
   "metadata": {},
   "outputs": [],
   "source": [
    "import jieba\n",
    "import jieba.analyse\n",
    "import pandas as pd\n",
    "import numpy as np\n",
    "import re\n",
    "from collections import Counter\n",
    "\n",
    "#Jieba 安裝\n",
    "#在你的電腦上開啟一個 cmd 視窗 (Windows 上稱為\"命令提示字元\") ，然後執行下列指令。pip install jieba\n",
    "#資料來源:https://data.gov.tw/dataset/6494\n"
   ]
  },
  {
   "cell_type": "code",
   "execution_count": 15,
   "id": "285b31d4",
   "metadata": {},
   "outputs": [],
   "source": [
    "from PIL import Image\n",
    "import matplotlib.pyplot as plt\n",
    "from wordcloud import WordCloud"
   ]
  },
  {
   "cell_type": "code",
   "execution_count": 40,
   "id": "8b762d85",
   "metadata": {},
   "outputs": [],
   "source": [
    "orgdata = pd.read_csv('nationalpark.csv')\n"
   ]
  },
  {
   "cell_type": "code",
   "execution_count": 20,
   "id": "8ea7ae3a",
   "metadata": {},
   "outputs": [
    {
     "data": {
      "text/html": [
       "<div>\n",
       "<style scoped>\n",
       "    .dataframe tbody tr th:only-of-type {\n",
       "        vertical-align: middle;\n",
       "    }\n",
       "\n",
       "    .dataframe tbody tr th {\n",
       "        vertical-align: top;\n",
       "    }\n",
       "\n",
       "    .dataframe thead th {\n",
       "        text-align: right;\n",
       "    }\n",
       "</style>\n",
       "<table border=\"1\" class=\"dataframe\">\n",
       "  <thead>\n",
       "    <tr style=\"text-align: right;\">\n",
       "      <th></th>\n",
       "      <th>年</th>\n",
       "      <th>國家公園名稱</th>\n",
       "      <th>面積</th>\n",
       "      <th>生態保護區面積</th>\n",
       "      <th>特別景觀區面積</th>\n",
       "      <th>史蹟保存區面積</th>\n",
       "      <th>遊憩區面積</th>\n",
       "      <th>一般管制區面積</th>\n",
       "      <th>公布實施日期</th>\n",
       "      <th>設置管理單位日期</th>\n",
       "      <th>行政區域</th>\n",
       "    </tr>\n",
       "  </thead>\n",
       "  <tbody>\n",
       "    <tr>\n",
       "      <th>0</th>\n",
       "      <td>2020</td>\n",
       "      <td>墾丁國家公園陸域</td>\n",
       "      <td>1767898.00</td>\n",
       "      <td>5507.02</td>\n",
       "      <td>1643.77</td>\n",
       "      <td>12.36</td>\n",
       "      <td>384.78</td>\n",
       "      <td>10131.05</td>\n",
       "      <td>71年9月</td>\n",
       "      <td>73年1月</td>\n",
       "      <td>屏東縣（恆春鎮、車城鄉、滿州鄉）</td>\n",
       "    </tr>\n",
       "    <tr>\n",
       "      <th>1</th>\n",
       "      <td>2020</td>\n",
       "      <td>墾丁國家公園海域</td>\n",
       "      <td>14891.16</td>\n",
       "      <td>714.97</td>\n",
       "      <td>270.12</td>\n",
       "      <td>NaN</td>\n",
       "      <td>309.68</td>\n",
       "      <td>13596.39</td>\n",
       "      <td>71年9月</td>\n",
       "      <td>73年1月</td>\n",
       "      <td>屏東縣（恆春鎮、車城鄉、滿州鄉）</td>\n",
       "    </tr>\n",
       "    <tr>\n",
       "      <th>2</th>\n",
       "      <td>2020</td>\n",
       "      <td>玉山國家公園陸域</td>\n",
       "      <td>103121.40</td>\n",
       "      <td>73622.30</td>\n",
       "      <td>3393.10</td>\n",
       "      <td>279.70</td>\n",
       "      <td>240.20</td>\n",
       "      <td>25586.10</td>\n",
       "      <td>74年4月</td>\n",
       "      <td>74年4月</td>\n",
       "      <td>南投縣（信義鄉）、嘉義縣（阿里山鄉）、高雄市（桃源區）、花蓮縣（卓溪鄉）</td>\n",
       "    </tr>\n",
       "    <tr>\n",
       "      <th>3</th>\n",
       "      <td>2020</td>\n",
       "      <td>陽明山國家公園陸域</td>\n",
       "      <td>11338.00</td>\n",
       "      <td>2115.00</td>\n",
       "      <td>5378.00</td>\n",
       "      <td>22.00</td>\n",
       "      <td>270.00</td>\n",
       "      <td>3553.00</td>\n",
       "      <td>74年9月</td>\n",
       "      <td>74年9月</td>\n",
       "      <td>臺北市（士林區、北投區）、新北市（三芝區、淡水區、石門區、金山區、萬里區）</td>\n",
       "    </tr>\n",
       "    <tr>\n",
       "      <th>4</th>\n",
       "      <td>2020</td>\n",
       "      <td>太魯閣國家公園陸域</td>\n",
       "      <td>92000.00</td>\n",
       "      <td>66240.00</td>\n",
       "      <td>22630.00</td>\n",
       "      <td>40.00</td>\n",
       "      <td>300.00</td>\n",
       "      <td>2790.00</td>\n",
       "      <td>75年11月</td>\n",
       "      <td>75年11月</td>\n",
       "      <td>花蓮縣（秀林鄉）、臺中市（和平區）、南投縣（仁愛鄉）</td>\n",
       "    </tr>\n",
       "  </tbody>\n",
       "</table>\n",
       "</div>"
      ],
      "text/plain": [
       "      年     國家公園名稱          面積   生態保護區面積   特別景觀區面積  史蹟保存區面積   遊憩區面積   一般管制區面積  \\\n",
       "0  2020   墾丁國家公園陸域  1767898.00   5507.02   1643.77    12.36  384.78  10131.05   \n",
       "1  2020   墾丁國家公園海域    14891.16    714.97    270.12      NaN  309.68  13596.39   \n",
       "2  2020   玉山國家公園陸域   103121.40  73622.30   3393.10   279.70  240.20  25586.10   \n",
       "3  2020  陽明山國家公園陸域    11338.00   2115.00   5378.00    22.00  270.00   3553.00   \n",
       "4  2020  太魯閣國家公園陸域    92000.00  66240.00  22630.00    40.00  300.00   2790.00   \n",
       "\n",
       "   公布實施日期 設置管理單位日期                                   行政區域  \n",
       "0   71年9月    73年1月                       屏東縣（恆春鎮、車城鄉、滿州鄉）  \n",
       "1   71年9月    73年1月                       屏東縣（恆春鎮、車城鄉、滿州鄉）  \n",
       "2   74年4月    74年4月   南投縣（信義鄉）、嘉義縣（阿里山鄉）、高雄市（桃源區）、花蓮縣（卓溪鄉）  \n",
       "3   74年9月    74年9月  臺北市（士林區、北投區）、新北市（三芝區、淡水區、石門區、金山區、萬里區）  \n",
       "4  75年11月   75年11月             花蓮縣（秀林鄉）、臺中市（和平區）、南投縣（仁愛鄉）  "
      ]
     },
     "execution_count": 20,
     "metadata": {},
     "output_type": "execute_result"
    }
   ],
   "source": [
    "orgdata.head()\n",
    "\n",
    "#顯示前五個，確認有讀進來"
   ]
  },
  {
   "cell_type": "code",
   "execution_count": 7,
   "id": "2c281ae3",
   "metadata": {},
   "outputs": [
    {
     "name": "stderr",
     "output_type": "stream",
     "text": [
      "Building prefix dict from the default dictionary ...\n",
      "Loading model from cache C:\\Users\\吳詩怡\\AppData\\Local\\Temp\\jieba.cache\n",
      "Loading model cost 0.627 seconds.\n",
      "Prefix dict has been built successfully.\n"
     ]
    },
    {
     "name": "stdout",
     "output_type": "stream",
     "text": [
      "您好/這是/國家/公園/資料\n"
     ]
    }
   ],
   "source": [
    "documents = ['您好這是國家公園資料']\n",
    "# 精確模式\n",
    "for sentence in documents:\n",
    "    seg_list = jieba.cut(sentence)\n",
    "    print('/'.join(seg_list))"
   ]
  },
  {
   "cell_type": "code",
   "execution_count": 26,
   "id": "d36514b7",
   "metadata": {
    "scrolled": true
   },
   "outputs": [
    {
     "data": {
      "text/html": [
       "<div>\n",
       "<style scoped>\n",
       "    .dataframe tbody tr th:only-of-type {\n",
       "        vertical-align: middle;\n",
       "    }\n",
       "\n",
       "    .dataframe tbody tr th {\n",
       "        vertical-align: top;\n",
       "    }\n",
       "\n",
       "    .dataframe thead th {\n",
       "        text-align: right;\n",
       "    }\n",
       "</style>\n",
       "<table border=\"1\" class=\"dataframe\">\n",
       "  <thead>\n",
       "    <tr style=\"text-align: right;\">\n",
       "      <th></th>\n",
       "      <th>年</th>\n",
       "      <th>國家公園名稱</th>\n",
       "      <th>面積</th>\n",
       "      <th>生態保護區面積</th>\n",
       "      <th>特別景觀區面積</th>\n",
       "      <th>史蹟保存區面積</th>\n",
       "      <th>遊憩區面積</th>\n",
       "      <th>一般管制區面積</th>\n",
       "      <th>公布實施日期</th>\n",
       "      <th>設置管理單位日期</th>\n",
       "      <th>行政區域</th>\n",
       "      <th>seg</th>\n",
       "    </tr>\n",
       "  </thead>\n",
       "  <tbody>\n",
       "    <tr>\n",
       "      <th>0</th>\n",
       "      <td>2020</td>\n",
       "      <td>墾丁國家公園陸域</td>\n",
       "      <td>1767898.00</td>\n",
       "      <td>5507.02</td>\n",
       "      <td>1643.77</td>\n",
       "      <td>12.36</td>\n",
       "      <td>384.78</td>\n",
       "      <td>10131.05</td>\n",
       "      <td>71年9月</td>\n",
       "      <td>73年1月</td>\n",
       "      <td>屏東縣（恆春鎮、車城鄉、滿州鄉）</td>\n",
       "      <td></td>\n",
       "    </tr>\n",
       "    <tr>\n",
       "      <th>1</th>\n",
       "      <td>2020</td>\n",
       "      <td>墾丁國家公園海域</td>\n",
       "      <td>14891.16</td>\n",
       "      <td>714.97</td>\n",
       "      <td>270.12</td>\n",
       "      <td>NaN</td>\n",
       "      <td>309.68</td>\n",
       "      <td>13596.39</td>\n",
       "      <td>71年9月</td>\n",
       "      <td>73年1月</td>\n",
       "      <td>屏東縣（恆春鎮、車城鄉、滿州鄉）</td>\n",
       "      <td></td>\n",
       "    </tr>\n",
       "    <tr>\n",
       "      <th>2</th>\n",
       "      <td>2020</td>\n",
       "      <td>玉山國家公園陸域</td>\n",
       "      <td>103121.40</td>\n",
       "      <td>73622.30</td>\n",
       "      <td>3393.10</td>\n",
       "      <td>279.70</td>\n",
       "      <td>240.20</td>\n",
       "      <td>25586.10</td>\n",
       "      <td>74年4月</td>\n",
       "      <td>74年4月</td>\n",
       "      <td>南投縣（信義鄉）、嘉義縣（阿里山鄉）、高雄市（桃源區）、花蓮縣（卓溪鄉）</td>\n",
       "      <td></td>\n",
       "    </tr>\n",
       "    <tr>\n",
       "      <th>3</th>\n",
       "      <td>2020</td>\n",
       "      <td>陽明山國家公園陸域</td>\n",
       "      <td>11338.00</td>\n",
       "      <td>2115.00</td>\n",
       "      <td>5378.00</td>\n",
       "      <td>22.00</td>\n",
       "      <td>270.00</td>\n",
       "      <td>3553.00</td>\n",
       "      <td>74年9月</td>\n",
       "      <td>74年9月</td>\n",
       "      <td>臺北市（士林區、北投區）、新北市（三芝區、淡水區、石門區、金山區、萬里區）</td>\n",
       "      <td></td>\n",
       "    </tr>\n",
       "    <tr>\n",
       "      <th>4</th>\n",
       "      <td>2020</td>\n",
       "      <td>太魯閣國家公園陸域</td>\n",
       "      <td>92000.00</td>\n",
       "      <td>66240.00</td>\n",
       "      <td>22630.00</td>\n",
       "      <td>40.00</td>\n",
       "      <td>300.00</td>\n",
       "      <td>2790.00</td>\n",
       "      <td>75年11月</td>\n",
       "      <td>75年11月</td>\n",
       "      <td>花蓮縣（秀林鄉）、臺中市（和平區）、南投縣（仁愛鄉）</td>\n",
       "      <td></td>\n",
       "    </tr>\n",
       "  </tbody>\n",
       "</table>\n",
       "</div>"
      ],
      "text/plain": [
       "      年     國家公園名稱          面積   生態保護區面積   特別景觀區面積  史蹟保存區面積   遊憩區面積   一般管制區面積  \\\n",
       "0  2020   墾丁國家公園陸域  1767898.00   5507.02   1643.77    12.36  384.78  10131.05   \n",
       "1  2020   墾丁國家公園海域    14891.16    714.97    270.12      NaN  309.68  13596.39   \n",
       "2  2020   玉山國家公園陸域   103121.40  73622.30   3393.10   279.70  240.20  25586.10   \n",
       "3  2020  陽明山國家公園陸域    11338.00   2115.00   5378.00    22.00  270.00   3553.00   \n",
       "4  2020  太魯閣國家公園陸域    92000.00  66240.00  22630.00    40.00  300.00   2790.00   \n",
       "\n",
       "   公布實施日期 設置管理單位日期                                   行政區域 seg  \n",
       "0   71年9月    73年1月                       屏東縣（恆春鎮、車城鄉、滿州鄉）      \n",
       "1   71年9月    73年1月                       屏東縣（恆春鎮、車城鄉、滿州鄉）      \n",
       "2   74年4月    74年4月   南投縣（信義鄉）、嘉義縣（阿里山鄉）、高雄市（桃源區）、花蓮縣（卓溪鄉）      \n",
       "3   74年9月    74年9月  臺北市（士林區、北投區）、新北市（三芝區、淡水區、石門區、金山區、萬里區）      \n",
       "4  75年11月   75年11月             花蓮縣（秀林鄉）、臺中市（和平區）、南投縣（仁愛鄉）      "
      ]
     },
     "execution_count": 26,
     "metadata": {},
     "output_type": "execute_result"
    }
   ],
   "source": [
    "orgdata['seg'] = \"\"\n",
    "orgdata.head()"
   ]
  },
  {
   "cell_type": "code",
   "execution_count": null,
   "id": "f00432a8",
   "metadata": {},
   "outputs": [],
   "source": [
    "jieba.load_userdict('./first.txt')\n",
    "\n",
    "for sentence in documents:\n",
    "    seg_list = jieba.cut(sentence)\n",
    "    print('/'.join(seg_list))"
   ]
  },
  {
   "cell_type": "code",
   "execution_count": 27,
   "id": "81037aae",
   "metadata": {},
   "outputs": [
    {
     "name": "stderr",
     "output_type": "stream",
     "text": [
      "C:\\Users\\吳詩怡\\AppData\\Local\\Temp\\ipykernel_1088\\17625006.py:5: SettingWithCopyWarning: \n",
      "A value is trying to be set on a copy of a slice from a DataFrame\n",
      "\n",
      "See the caveats in the documentation: https://pandas.pydata.org/pandas-docs/stable/user_guide/indexing.html#returning-a-view-versus-a-copy\n",
      "  orgdata['seg'].iloc[index] = seg_list\n"
     ]
    }
   ],
   "source": [
    "jieba.analyse.set_stop_words('stopwords.txt')\n",
    "index = 0\n",
    "for documents in orgdata['國家公園名稱']: \n",
    "    seg_list = jieba.analyse.extract_tags(documents, topK=150) \n",
    "    orgdata['seg'].iloc[index] = seg_list\n",
    "    index += 1"
   ]
  },
  {
   "cell_type": "code",
   "execution_count": 28,
   "id": "d0a9bdcb",
   "metadata": {},
   "outputs": [
    {
     "data": {
      "text/plain": [
       "0             [墾丁, 國家公園, 陸域]\n",
       "1             [墾丁, 國家公園, 海域]\n",
       "2             [國家公園, 陸域, 玉山]\n",
       "3            [陽明山, 國家公園, 陸域]\n",
       "4            [太魯閣, 國家公園, 陸域]\n",
       "5             [雪霸, 國家公園, 陸域]\n",
       "6             [金門, 國家公園, 陸域]\n",
       "7         [東沙, 環礁, 國家公園, 陸域]\n",
       "8         [東沙, 環礁, 國家公園, 海域]\n",
       "9             [台江, 國家公園, 陸域]\n",
       "10            [台江, 國家公園, 海域]\n",
       "11    [四島, 國家公園, 陸域, 澎湖, 南方]\n",
       "12    [四島, 國家公園, 澎湖, 海域, 南方]\n",
       "Name: seg, dtype: object"
      ]
     },
     "execution_count": 28,
     "metadata": {},
     "output_type": "execute_result"
    }
   ],
   "source": [
    "orgdata['seg']"
   ]
  },
  {
   "cell_type": "code",
   "execution_count": 41,
   "id": "14e4909b",
   "metadata": {},
   "outputs": [
    {
     "name": "stderr",
     "output_type": "stream",
     "text": [
      "C:\\Users\\吳詩怡\\AppData\\Local\\Temp\\ipykernel_1088\\3683931945.py:5: SettingWithCopyWarning:\n",
      "\n",
      "\n",
      "A value is trying to be set on a copy of a slice from a DataFrame\n",
      "\n",
      "See the caveats in the documentation: https://pandas.pydata.org/pandas-docs/stable/user_guide/indexing.html#returning-a-view-versus-a-copy\n",
      "\n"
     ]
    }
   ],
   "source": [
    "orgdata['city'] = \"\"\n",
    "index = 0\n",
    "for documents in orgdata['國家公園名稱']:\n",
    "    date_split = documents.split('陸域')\n",
    "    orgdata['city'].iloc[index] = date_split[0]\n",
    "    index += 1"
   ]
  },
  {
   "cell_type": "code",
   "execution_count": 42,
   "id": "96cdd0d6",
   "metadata": {},
   "outputs": [
    {
     "data": {
      "text/html": [
       "<div>\n",
       "<style scoped>\n",
       "    .dataframe tbody tr th:only-of-type {\n",
       "        vertical-align: middle;\n",
       "    }\n",
       "\n",
       "    .dataframe tbody tr th {\n",
       "        vertical-align: top;\n",
       "    }\n",
       "\n",
       "    .dataframe thead th {\n",
       "        text-align: right;\n",
       "    }\n",
       "</style>\n",
       "<table border=\"1\" class=\"dataframe\">\n",
       "  <thead>\n",
       "    <tr style=\"text-align: right;\">\n",
       "      <th></th>\n",
       "      <th>年</th>\n",
       "      <th>國家公園名稱</th>\n",
       "      <th>面積</th>\n",
       "      <th>生態保護區面積</th>\n",
       "      <th>特別景觀區面積</th>\n",
       "      <th>史蹟保存區面積</th>\n",
       "      <th>遊憩區面積</th>\n",
       "      <th>一般管制區面積</th>\n",
       "      <th>公布實施日期</th>\n",
       "      <th>設置管理單位日期</th>\n",
       "      <th>行政區域</th>\n",
       "      <th>city</th>\n",
       "    </tr>\n",
       "  </thead>\n",
       "  <tbody>\n",
       "    <tr>\n",
       "      <th>0</th>\n",
       "      <td>2020</td>\n",
       "      <td>墾丁國家公園陸域</td>\n",
       "      <td>1767898.00</td>\n",
       "      <td>5507.02</td>\n",
       "      <td>1643.77</td>\n",
       "      <td>12.36</td>\n",
       "      <td>384.78</td>\n",
       "      <td>10131.05</td>\n",
       "      <td>71年9月</td>\n",
       "      <td>73年1月</td>\n",
       "      <td>屏東縣（恆春鎮、車城鄉、滿州鄉）</td>\n",
       "      <td>墾丁國家公園</td>\n",
       "    </tr>\n",
       "    <tr>\n",
       "      <th>1</th>\n",
       "      <td>2020</td>\n",
       "      <td>墾丁國家公園海域</td>\n",
       "      <td>14891.16</td>\n",
       "      <td>714.97</td>\n",
       "      <td>270.12</td>\n",
       "      <td>NaN</td>\n",
       "      <td>309.68</td>\n",
       "      <td>13596.39</td>\n",
       "      <td>71年9月</td>\n",
       "      <td>73年1月</td>\n",
       "      <td>屏東縣（恆春鎮、車城鄉、滿州鄉）</td>\n",
       "      <td>墾丁國家公園海域</td>\n",
       "    </tr>\n",
       "    <tr>\n",
       "      <th>2</th>\n",
       "      <td>2020</td>\n",
       "      <td>玉山國家公園陸域</td>\n",
       "      <td>103121.40</td>\n",
       "      <td>73622.30</td>\n",
       "      <td>3393.10</td>\n",
       "      <td>279.70</td>\n",
       "      <td>240.20</td>\n",
       "      <td>25586.10</td>\n",
       "      <td>74年4月</td>\n",
       "      <td>74年4月</td>\n",
       "      <td>南投縣（信義鄉）、嘉義縣（阿里山鄉）、高雄市（桃源區）、花蓮縣（卓溪鄉）</td>\n",
       "      <td>玉山國家公園</td>\n",
       "    </tr>\n",
       "    <tr>\n",
       "      <th>3</th>\n",
       "      <td>2020</td>\n",
       "      <td>陽明山國家公園陸域</td>\n",
       "      <td>11338.00</td>\n",
       "      <td>2115.00</td>\n",
       "      <td>5378.00</td>\n",
       "      <td>22.00</td>\n",
       "      <td>270.00</td>\n",
       "      <td>3553.00</td>\n",
       "      <td>74年9月</td>\n",
       "      <td>74年9月</td>\n",
       "      <td>臺北市（士林區、北投區）、新北市（三芝區、淡水區、石門區、金山區、萬里區）</td>\n",
       "      <td>陽明山國家公園</td>\n",
       "    </tr>\n",
       "    <tr>\n",
       "      <th>4</th>\n",
       "      <td>2020</td>\n",
       "      <td>太魯閣國家公園陸域</td>\n",
       "      <td>92000.00</td>\n",
       "      <td>66240.00</td>\n",
       "      <td>22630.00</td>\n",
       "      <td>40.00</td>\n",
       "      <td>300.00</td>\n",
       "      <td>2790.00</td>\n",
       "      <td>75年11月</td>\n",
       "      <td>75年11月</td>\n",
       "      <td>花蓮縣（秀林鄉）、臺中市（和平區）、南投縣（仁愛鄉）</td>\n",
       "      <td>太魯閣國家公園</td>\n",
       "    </tr>\n",
       "    <tr>\n",
       "      <th>5</th>\n",
       "      <td>2020</td>\n",
       "      <td>雪霸國家公園陸域</td>\n",
       "      <td>76850.00</td>\n",
       "      <td>51595.58</td>\n",
       "      <td>1855.00</td>\n",
       "      <td>41.19</td>\n",
       "      <td>82.23</td>\n",
       "      <td>23276.00</td>\n",
       "      <td>81年7月</td>\n",
       "      <td>81年7月</td>\n",
       "      <td>新竹縣（五峰鄉、尖石鄉）、苗栗縣（泰安鄉）、臺中市（和平區）</td>\n",
       "      <td>雪霸國家公園</td>\n",
       "    </tr>\n",
       "    <tr>\n",
       "      <th>6</th>\n",
       "      <td>2020</td>\n",
       "      <td>金門國家公園陸域</td>\n",
       "      <td>3528.74</td>\n",
       "      <td>NaN</td>\n",
       "      <td>1525.91</td>\n",
       "      <td>0.34</td>\n",
       "      <td>266.86</td>\n",
       "      <td>1735.63</td>\n",
       "      <td>84年10月</td>\n",
       "      <td>84年10月</td>\n",
       "      <td>金門縣（金城鎮、金寧鄉、金湖鎮、金沙鎮、烈嶼鄉）</td>\n",
       "      <td>金門國家公園</td>\n",
       "    </tr>\n",
       "    <tr>\n",
       "      <th>7</th>\n",
       "      <td>2020</td>\n",
       "      <td>東沙環礁國家公園陸域</td>\n",
       "      <td>178.57</td>\n",
       "      <td>NaN</td>\n",
       "      <td>132.96</td>\n",
       "      <td>1.57</td>\n",
       "      <td>NaN</td>\n",
       "      <td>44.04</td>\n",
       "      <td>96年1月</td>\n",
       "      <td>96年10月</td>\n",
       "      <td>高雄市(旗津區)</td>\n",
       "      <td>東沙環礁國家公園</td>\n",
       "    </tr>\n",
       "    <tr>\n",
       "      <th>8</th>\n",
       "      <td>2020</td>\n",
       "      <td>東沙環礁國家公園海域</td>\n",
       "      <td>353489.38</td>\n",
       "      <td>57660.53</td>\n",
       "      <td>295810.27</td>\n",
       "      <td>NaN</td>\n",
       "      <td>NaN</td>\n",
       "      <td>18.58</td>\n",
       "      <td>96年1月</td>\n",
       "      <td>96年10月</td>\n",
       "      <td>高雄市(旗津區)</td>\n",
       "      <td>東沙環礁國家公園海域</td>\n",
       "    </tr>\n",
       "    <tr>\n",
       "      <th>9</th>\n",
       "      <td>2020</td>\n",
       "      <td>台江國家公園陸域</td>\n",
       "      <td>5090.21</td>\n",
       "      <td>624.97</td>\n",
       "      <td>1618.02</td>\n",
       "      <td>16.30</td>\n",
       "      <td>4057.00</td>\n",
       "      <td>279034.00</td>\n",
       "      <td>98年10月</td>\n",
       "      <td>98年10月</td>\n",
       "      <td>台南市、澎湖縣</td>\n",
       "      <td>台江國家公園</td>\n",
       "    </tr>\n",
       "    <tr>\n",
       "      <th>10</th>\n",
       "      <td>2020</td>\n",
       "      <td>台江國家公園海域</td>\n",
       "      <td>35641.10</td>\n",
       "      <td>NaN</td>\n",
       "      <td>NaN</td>\n",
       "      <td>NaN</td>\n",
       "      <td>NaN</td>\n",
       "      <td>35641.10</td>\n",
       "      <td>98年10月</td>\n",
       "      <td>98年10月</td>\n",
       "      <td>台南市、澎湖縣</td>\n",
       "      <td>台江國家公園海域</td>\n",
       "    </tr>\n",
       "    <tr>\n",
       "      <th>11</th>\n",
       "      <td>2020</td>\n",
       "      <td>澎湖南方四島國家公園陸域</td>\n",
       "      <td>370.29</td>\n",
       "      <td>NaN</td>\n",
       "      <td>317.51</td>\n",
       "      <td>NaN</td>\n",
       "      <td>NaN</td>\n",
       "      <td>52.78</td>\n",
       "      <td>103年6月</td>\n",
       "      <td>103年10月</td>\n",
       "      <td>澎湖縣</td>\n",
       "      <td>澎湖南方四島國家公園</td>\n",
       "    </tr>\n",
       "    <tr>\n",
       "      <th>12</th>\n",
       "      <td>2020</td>\n",
       "      <td>澎湖南方四島國家公園海域</td>\n",
       "      <td>35473.33</td>\n",
       "      <td>70.94</td>\n",
       "      <td>16600.03</td>\n",
       "      <td>NaN</td>\n",
       "      <td>25.61</td>\n",
       "      <td>18776.74</td>\n",
       "      <td>103年6月</td>\n",
       "      <td>103年10月</td>\n",
       "      <td>澎湖縣</td>\n",
       "      <td>澎湖南方四島國家公園海域</td>\n",
       "    </tr>\n",
       "  </tbody>\n",
       "</table>\n",
       "</div>"
      ],
      "text/plain": [
       "       年        國家公園名稱          面積   生態保護區面積    特別景觀區面積  史蹟保存區面積    遊憩區面積  \\\n",
       "0   2020      墾丁國家公園陸域  1767898.00   5507.02    1643.77    12.36   384.78   \n",
       "1   2020      墾丁國家公園海域    14891.16    714.97     270.12      NaN   309.68   \n",
       "2   2020      玉山國家公園陸域   103121.40  73622.30    3393.10   279.70   240.20   \n",
       "3   2020     陽明山國家公園陸域    11338.00   2115.00    5378.00    22.00   270.00   \n",
       "4   2020     太魯閣國家公園陸域    92000.00  66240.00   22630.00    40.00   300.00   \n",
       "5   2020      雪霸國家公園陸域    76850.00  51595.58    1855.00    41.19    82.23   \n",
       "6   2020      金門國家公園陸域     3528.74       NaN    1525.91     0.34   266.86   \n",
       "7   2020    東沙環礁國家公園陸域      178.57       NaN     132.96     1.57      NaN   \n",
       "8   2020    東沙環礁國家公園海域   353489.38  57660.53  295810.27      NaN      NaN   \n",
       "9   2020      台江國家公園陸域     5090.21    624.97    1618.02    16.30  4057.00   \n",
       "10  2020      台江國家公園海域    35641.10       NaN        NaN      NaN      NaN   \n",
       "11  2020  澎湖南方四島國家公園陸域      370.29       NaN     317.51      NaN      NaN   \n",
       "12  2020  澎湖南方四島國家公園海域    35473.33     70.94   16600.03      NaN    25.61   \n",
       "\n",
       "      一般管制區面積  公布實施日期 設置管理單位日期                                   行政區域  \\\n",
       "0    10131.05   71年9月    73年1月                       屏東縣（恆春鎮、車城鄉、滿州鄉）   \n",
       "1    13596.39   71年9月    73年1月                       屏東縣（恆春鎮、車城鄉、滿州鄉）   \n",
       "2    25586.10   74年4月    74年4月   南投縣（信義鄉）、嘉義縣（阿里山鄉）、高雄市（桃源區）、花蓮縣（卓溪鄉）   \n",
       "3     3553.00   74年9月    74年9月  臺北市（士林區、北投區）、新北市（三芝區、淡水區、石門區、金山區、萬里區）   \n",
       "4     2790.00  75年11月   75年11月             花蓮縣（秀林鄉）、臺中市（和平區）、南投縣（仁愛鄉）   \n",
       "5    23276.00   81年7月    81年7月         新竹縣（五峰鄉、尖石鄉）、苗栗縣（泰安鄉）、臺中市（和平區）   \n",
       "6     1735.63  84年10月   84年10月               金門縣（金城鎮、金寧鄉、金湖鎮、金沙鎮、烈嶼鄉）   \n",
       "7       44.04   96年1月   96年10月                               高雄市(旗津區)   \n",
       "8       18.58   96年1月   96年10月                               高雄市(旗津區)   \n",
       "9   279034.00  98年10月   98年10月                                台南市、澎湖縣   \n",
       "10   35641.10  98年10月   98年10月                                台南市、澎湖縣   \n",
       "11      52.78  103年6月  103年10月                                    澎湖縣   \n",
       "12   18776.74  103年6月  103年10月                                    澎湖縣   \n",
       "\n",
       "            city  \n",
       "0         墾丁國家公園  \n",
       "1       墾丁國家公園海域  \n",
       "2         玉山國家公園  \n",
       "3        陽明山國家公園  \n",
       "4        太魯閣國家公園  \n",
       "5         雪霸國家公園  \n",
       "6         金門國家公園  \n",
       "7       東沙環礁國家公園  \n",
       "8     東沙環礁國家公園海域  \n",
       "9         台江國家公園  \n",
       "10      台江國家公園海域  \n",
       "11    澎湖南方四島國家公園  \n",
       "12  澎湖南方四島國家公園海域  "
      ]
     },
     "execution_count": 42,
     "metadata": {},
     "output_type": "execute_result"
    }
   ],
   "source": [
    "orgdata"
   ]
  },
  {
   "cell_type": "code",
   "execution_count": 43,
   "id": "29085836",
   "metadata": {},
   "outputs": [],
   "source": [
    "words = list(orgdata['city'])\n",
    "show_key = pd.DataFrame(Counter(words).keys())\n",
    "show_values = pd.DataFrame(Counter(words).values())\n",
    "df = [show_key, show_values]"
   ]
  },
  {
   "cell_type": "code",
   "execution_count": 37,
   "id": "987a731d",
   "metadata": {},
   "outputs": [
    {
     "data": {
      "text/html": [
       "<div>\n",
       "<style scoped>\n",
       "    .dataframe tbody tr th:only-of-type {\n",
       "        vertical-align: middle;\n",
       "    }\n",
       "\n",
       "    .dataframe tbody tr th {\n",
       "        vertical-align: top;\n",
       "    }\n",
       "\n",
       "    .dataframe thead th {\n",
       "        text-align: right;\n",
       "    }\n",
       "</style>\n",
       "<table border=\"1\" class=\"dataframe\">\n",
       "  <thead>\n",
       "    <tr style=\"text-align: right;\">\n",
       "      <th></th>\n",
       "      <th>city</th>\n",
       "      <th>frequency</th>\n",
       "    </tr>\n",
       "  </thead>\n",
       "  <tbody>\n",
       "    <tr>\n",
       "      <th>0</th>\n",
       "      <td>墾丁國家公園</td>\n",
       "      <td>1</td>\n",
       "    </tr>\n",
       "    <tr>\n",
       "      <th>1</th>\n",
       "      <td>墾丁國家公園海域</td>\n",
       "      <td>1</td>\n",
       "    </tr>\n",
       "    <tr>\n",
       "      <th>2</th>\n",
       "      <td>玉山國家公園</td>\n",
       "      <td>1</td>\n",
       "    </tr>\n",
       "    <tr>\n",
       "      <th>3</th>\n",
       "      <td>陽明山國家公園</td>\n",
       "      <td>1</td>\n",
       "    </tr>\n",
       "    <tr>\n",
       "      <th>4</th>\n",
       "      <td>太魯閣國家公園</td>\n",
       "      <td>1</td>\n",
       "    </tr>\n",
       "    <tr>\n",
       "      <th>5</th>\n",
       "      <td>雪霸國家公園</td>\n",
       "      <td>1</td>\n",
       "    </tr>\n",
       "    <tr>\n",
       "      <th>6</th>\n",
       "      <td>金門國家公園</td>\n",
       "      <td>1</td>\n",
       "    </tr>\n",
       "    <tr>\n",
       "      <th>7</th>\n",
       "      <td>東沙環礁國家公園</td>\n",
       "      <td>1</td>\n",
       "    </tr>\n",
       "    <tr>\n",
       "      <th>8</th>\n",
       "      <td>東沙環礁國家公園海域</td>\n",
       "      <td>1</td>\n",
       "    </tr>\n",
       "    <tr>\n",
       "      <th>9</th>\n",
       "      <td>台江國家公園</td>\n",
       "      <td>1</td>\n",
       "    </tr>\n",
       "    <tr>\n",
       "      <th>10</th>\n",
       "      <td>台江國家公園海域</td>\n",
       "      <td>1</td>\n",
       "    </tr>\n",
       "    <tr>\n",
       "      <th>11</th>\n",
       "      <td>澎湖南方四島國家公園</td>\n",
       "      <td>1</td>\n",
       "    </tr>\n",
       "    <tr>\n",
       "      <th>12</th>\n",
       "      <td>澎湖南方四島國家公園海域</td>\n",
       "      <td>1</td>\n",
       "    </tr>\n",
       "  </tbody>\n",
       "</table>\n",
       "</div>"
      ],
      "text/plain": [
       "            city  frequency\n",
       "0         墾丁國家公園          1\n",
       "1       墾丁國家公園海域          1\n",
       "2         玉山國家公園          1\n",
       "3        陽明山國家公園          1\n",
       "4        太魯閣國家公園          1\n",
       "5         雪霸國家公園          1\n",
       "6         金門國家公園          1\n",
       "7       東沙環礁國家公園          1\n",
       "8     東沙環礁國家公園海域          1\n",
       "9         台江國家公園          1\n",
       "10      台江國家公園海域          1\n",
       "11    澎湖南方四島國家公園          1\n",
       "12  澎湖南方四島國家公園海域          1"
      ]
     },
     "execution_count": 37,
     "metadata": {},
     "output_type": "execute_result"
    }
   ],
   "source": [
    "result = pd.concat(df, axis=1)\n",
    "result.columns = ['city', 'frequency']\n",
    "result"
   ]
  },
  {
   "cell_type": "code",
   "execution_count": 38,
   "id": "ad2ebce6",
   "metadata": {},
   "outputs": [
    {
     "data": {
      "application/vnd.plotly.v1+json": {
       "config": {
        "plotlyServerURL": "https://plot.ly"
       },
       "data": [
        {
         "alignmentgroup": "True",
         "hovertemplate": "city=%{x}<br>frequency=%{y}<extra></extra>",
         "legendgroup": "",
         "marker": {
          "color": "#636efa",
          "pattern": {
           "shape": ""
          }
         },
         "name": "",
         "offsetgroup": "",
         "orientation": "v",
         "showlegend": false,
         "textposition": "auto",
         "type": "bar",
         "x": [
          "墾丁國家公園",
          "墾丁國家公園海域",
          "玉山國家公園",
          "陽明山國家公園",
          "太魯閣國家公園",
          "雪霸國家公園",
          "金門國家公園",
          "東沙環礁國家公園",
          "東沙環礁國家公園海域",
          "台江國家公園",
          "台江國家公園海域",
          "澎湖南方四島國家公園",
          "澎湖南方四島國家公園海域"
         ],
         "xaxis": "x",
         "y": [
          1,
          1,
          1,
          1,
          1,
          1,
          1,
          1,
          1,
          1,
          1,
          1,
          1
         ],
         "yaxis": "y"
        }
       ],
       "layout": {
        "barmode": "relative",
        "legend": {
         "tracegroupgap": 0
        },
        "template": {
         "data": {
          "bar": [
           {
            "error_x": {
             "color": "#2a3f5f"
            },
            "error_y": {
             "color": "#2a3f5f"
            },
            "marker": {
             "line": {
              "color": "#E5ECF6",
              "width": 0.5
             },
             "pattern": {
              "fillmode": "overlay",
              "size": 10,
              "solidity": 0.2
             }
            },
            "type": "bar"
           }
          ],
          "barpolar": [
           {
            "marker": {
             "line": {
              "color": "#E5ECF6",
              "width": 0.5
             },
             "pattern": {
              "fillmode": "overlay",
              "size": 10,
              "solidity": 0.2
             }
            },
            "type": "barpolar"
           }
          ],
          "carpet": [
           {
            "aaxis": {
             "endlinecolor": "#2a3f5f",
             "gridcolor": "white",
             "linecolor": "white",
             "minorgridcolor": "white",
             "startlinecolor": "#2a3f5f"
            },
            "baxis": {
             "endlinecolor": "#2a3f5f",
             "gridcolor": "white",
             "linecolor": "white",
             "minorgridcolor": "white",
             "startlinecolor": "#2a3f5f"
            },
            "type": "carpet"
           }
          ],
          "choropleth": [
           {
            "colorbar": {
             "outlinewidth": 0,
             "ticks": ""
            },
            "type": "choropleth"
           }
          ],
          "contour": [
           {
            "colorbar": {
             "outlinewidth": 0,
             "ticks": ""
            },
            "colorscale": [
             [
              0,
              "#0d0887"
             ],
             [
              0.1111111111111111,
              "#46039f"
             ],
             [
              0.2222222222222222,
              "#7201a8"
             ],
             [
              0.3333333333333333,
              "#9c179e"
             ],
             [
              0.4444444444444444,
              "#bd3786"
             ],
             [
              0.5555555555555556,
              "#d8576b"
             ],
             [
              0.6666666666666666,
              "#ed7953"
             ],
             [
              0.7777777777777778,
              "#fb9f3a"
             ],
             [
              0.8888888888888888,
              "#fdca26"
             ],
             [
              1,
              "#f0f921"
             ]
            ],
            "type": "contour"
           }
          ],
          "contourcarpet": [
           {
            "colorbar": {
             "outlinewidth": 0,
             "ticks": ""
            },
            "type": "contourcarpet"
           }
          ],
          "heatmap": [
           {
            "colorbar": {
             "outlinewidth": 0,
             "ticks": ""
            },
            "colorscale": [
             [
              0,
              "#0d0887"
             ],
             [
              0.1111111111111111,
              "#46039f"
             ],
             [
              0.2222222222222222,
              "#7201a8"
             ],
             [
              0.3333333333333333,
              "#9c179e"
             ],
             [
              0.4444444444444444,
              "#bd3786"
             ],
             [
              0.5555555555555556,
              "#d8576b"
             ],
             [
              0.6666666666666666,
              "#ed7953"
             ],
             [
              0.7777777777777778,
              "#fb9f3a"
             ],
             [
              0.8888888888888888,
              "#fdca26"
             ],
             [
              1,
              "#f0f921"
             ]
            ],
            "type": "heatmap"
           }
          ],
          "heatmapgl": [
           {
            "colorbar": {
             "outlinewidth": 0,
             "ticks": ""
            },
            "colorscale": [
             [
              0,
              "#0d0887"
             ],
             [
              0.1111111111111111,
              "#46039f"
             ],
             [
              0.2222222222222222,
              "#7201a8"
             ],
             [
              0.3333333333333333,
              "#9c179e"
             ],
             [
              0.4444444444444444,
              "#bd3786"
             ],
             [
              0.5555555555555556,
              "#d8576b"
             ],
             [
              0.6666666666666666,
              "#ed7953"
             ],
             [
              0.7777777777777778,
              "#fb9f3a"
             ],
             [
              0.8888888888888888,
              "#fdca26"
             ],
             [
              1,
              "#f0f921"
             ]
            ],
            "type": "heatmapgl"
           }
          ],
          "histogram": [
           {
            "marker": {
             "pattern": {
              "fillmode": "overlay",
              "size": 10,
              "solidity": 0.2
             }
            },
            "type": "histogram"
           }
          ],
          "histogram2d": [
           {
            "colorbar": {
             "outlinewidth": 0,
             "ticks": ""
            },
            "colorscale": [
             [
              0,
              "#0d0887"
             ],
             [
              0.1111111111111111,
              "#46039f"
             ],
             [
              0.2222222222222222,
              "#7201a8"
             ],
             [
              0.3333333333333333,
              "#9c179e"
             ],
             [
              0.4444444444444444,
              "#bd3786"
             ],
             [
              0.5555555555555556,
              "#d8576b"
             ],
             [
              0.6666666666666666,
              "#ed7953"
             ],
             [
              0.7777777777777778,
              "#fb9f3a"
             ],
             [
              0.8888888888888888,
              "#fdca26"
             ],
             [
              1,
              "#f0f921"
             ]
            ],
            "type": "histogram2d"
           }
          ],
          "histogram2dcontour": [
           {
            "colorbar": {
             "outlinewidth": 0,
             "ticks": ""
            },
            "colorscale": [
             [
              0,
              "#0d0887"
             ],
             [
              0.1111111111111111,
              "#46039f"
             ],
             [
              0.2222222222222222,
              "#7201a8"
             ],
             [
              0.3333333333333333,
              "#9c179e"
             ],
             [
              0.4444444444444444,
              "#bd3786"
             ],
             [
              0.5555555555555556,
              "#d8576b"
             ],
             [
              0.6666666666666666,
              "#ed7953"
             ],
             [
              0.7777777777777778,
              "#fb9f3a"
             ],
             [
              0.8888888888888888,
              "#fdca26"
             ],
             [
              1,
              "#f0f921"
             ]
            ],
            "type": "histogram2dcontour"
           }
          ],
          "mesh3d": [
           {
            "colorbar": {
             "outlinewidth": 0,
             "ticks": ""
            },
            "type": "mesh3d"
           }
          ],
          "parcoords": [
           {
            "line": {
             "colorbar": {
              "outlinewidth": 0,
              "ticks": ""
             }
            },
            "type": "parcoords"
           }
          ],
          "pie": [
           {
            "automargin": true,
            "type": "pie"
           }
          ],
          "scatter": [
           {
            "marker": {
             "colorbar": {
              "outlinewidth": 0,
              "ticks": ""
             }
            },
            "type": "scatter"
           }
          ],
          "scatter3d": [
           {
            "line": {
             "colorbar": {
              "outlinewidth": 0,
              "ticks": ""
             }
            },
            "marker": {
             "colorbar": {
              "outlinewidth": 0,
              "ticks": ""
             }
            },
            "type": "scatter3d"
           }
          ],
          "scattercarpet": [
           {
            "marker": {
             "colorbar": {
              "outlinewidth": 0,
              "ticks": ""
             }
            },
            "type": "scattercarpet"
           }
          ],
          "scattergeo": [
           {
            "marker": {
             "colorbar": {
              "outlinewidth": 0,
              "ticks": ""
             }
            },
            "type": "scattergeo"
           }
          ],
          "scattergl": [
           {
            "marker": {
             "colorbar": {
              "outlinewidth": 0,
              "ticks": ""
             }
            },
            "type": "scattergl"
           }
          ],
          "scattermapbox": [
           {
            "marker": {
             "colorbar": {
              "outlinewidth": 0,
              "ticks": ""
             }
            },
            "type": "scattermapbox"
           }
          ],
          "scatterpolar": [
           {
            "marker": {
             "colorbar": {
              "outlinewidth": 0,
              "ticks": ""
             }
            },
            "type": "scatterpolar"
           }
          ],
          "scatterpolargl": [
           {
            "marker": {
             "colorbar": {
              "outlinewidth": 0,
              "ticks": ""
             }
            },
            "type": "scatterpolargl"
           }
          ],
          "scatterternary": [
           {
            "marker": {
             "colorbar": {
              "outlinewidth": 0,
              "ticks": ""
             }
            },
            "type": "scatterternary"
           }
          ],
          "surface": [
           {
            "colorbar": {
             "outlinewidth": 0,
             "ticks": ""
            },
            "colorscale": [
             [
              0,
              "#0d0887"
             ],
             [
              0.1111111111111111,
              "#46039f"
             ],
             [
              0.2222222222222222,
              "#7201a8"
             ],
             [
              0.3333333333333333,
              "#9c179e"
             ],
             [
              0.4444444444444444,
              "#bd3786"
             ],
             [
              0.5555555555555556,
              "#d8576b"
             ],
             [
              0.6666666666666666,
              "#ed7953"
             ],
             [
              0.7777777777777778,
              "#fb9f3a"
             ],
             [
              0.8888888888888888,
              "#fdca26"
             ],
             [
              1,
              "#f0f921"
             ]
            ],
            "type": "surface"
           }
          ],
          "table": [
           {
            "cells": {
             "fill": {
              "color": "#EBF0F8"
             },
             "line": {
              "color": "white"
             }
            },
            "header": {
             "fill": {
              "color": "#C8D4E3"
             },
             "line": {
              "color": "white"
             }
            },
            "type": "table"
           }
          ]
         },
         "layout": {
          "annotationdefaults": {
           "arrowcolor": "#2a3f5f",
           "arrowhead": 0,
           "arrowwidth": 1
          },
          "autotypenumbers": "strict",
          "coloraxis": {
           "colorbar": {
            "outlinewidth": 0,
            "ticks": ""
           }
          },
          "colorscale": {
           "diverging": [
            [
             0,
             "#8e0152"
            ],
            [
             0.1,
             "#c51b7d"
            ],
            [
             0.2,
             "#de77ae"
            ],
            [
             0.3,
             "#f1b6da"
            ],
            [
             0.4,
             "#fde0ef"
            ],
            [
             0.5,
             "#f7f7f7"
            ],
            [
             0.6,
             "#e6f5d0"
            ],
            [
             0.7,
             "#b8e186"
            ],
            [
             0.8,
             "#7fbc41"
            ],
            [
             0.9,
             "#4d9221"
            ],
            [
             1,
             "#276419"
            ]
           ],
           "sequential": [
            [
             0,
             "#0d0887"
            ],
            [
             0.1111111111111111,
             "#46039f"
            ],
            [
             0.2222222222222222,
             "#7201a8"
            ],
            [
             0.3333333333333333,
             "#9c179e"
            ],
            [
             0.4444444444444444,
             "#bd3786"
            ],
            [
             0.5555555555555556,
             "#d8576b"
            ],
            [
             0.6666666666666666,
             "#ed7953"
            ],
            [
             0.7777777777777778,
             "#fb9f3a"
            ],
            [
             0.8888888888888888,
             "#fdca26"
            ],
            [
             1,
             "#f0f921"
            ]
           ],
           "sequentialminus": [
            [
             0,
             "#0d0887"
            ],
            [
             0.1111111111111111,
             "#46039f"
            ],
            [
             0.2222222222222222,
             "#7201a8"
            ],
            [
             0.3333333333333333,
             "#9c179e"
            ],
            [
             0.4444444444444444,
             "#bd3786"
            ],
            [
             0.5555555555555556,
             "#d8576b"
            ],
            [
             0.6666666666666666,
             "#ed7953"
            ],
            [
             0.7777777777777778,
             "#fb9f3a"
            ],
            [
             0.8888888888888888,
             "#fdca26"
            ],
            [
             1,
             "#f0f921"
            ]
           ]
          },
          "colorway": [
           "#636efa",
           "#EF553B",
           "#00cc96",
           "#ab63fa",
           "#FFA15A",
           "#19d3f3",
           "#FF6692",
           "#B6E880",
           "#FF97FF",
           "#FECB52"
          ],
          "font": {
           "color": "#2a3f5f"
          },
          "geo": {
           "bgcolor": "white",
           "lakecolor": "white",
           "landcolor": "#E5ECF6",
           "showlakes": true,
           "showland": true,
           "subunitcolor": "white"
          },
          "hoverlabel": {
           "align": "left"
          },
          "hovermode": "closest",
          "mapbox": {
           "style": "light"
          },
          "paper_bgcolor": "white",
          "plot_bgcolor": "#E5ECF6",
          "polar": {
           "angularaxis": {
            "gridcolor": "white",
            "linecolor": "white",
            "ticks": ""
           },
           "bgcolor": "#E5ECF6",
           "radialaxis": {
            "gridcolor": "white",
            "linecolor": "white",
            "ticks": ""
           }
          },
          "scene": {
           "xaxis": {
            "backgroundcolor": "#E5ECF6",
            "gridcolor": "white",
            "gridwidth": 2,
            "linecolor": "white",
            "showbackground": true,
            "ticks": "",
            "zerolinecolor": "white"
           },
           "yaxis": {
            "backgroundcolor": "#E5ECF6",
            "gridcolor": "white",
            "gridwidth": 2,
            "linecolor": "white",
            "showbackground": true,
            "ticks": "",
            "zerolinecolor": "white"
           },
           "zaxis": {
            "backgroundcolor": "#E5ECF6",
            "gridcolor": "white",
            "gridwidth": 2,
            "linecolor": "white",
            "showbackground": true,
            "ticks": "",
            "zerolinecolor": "white"
           }
          },
          "shapedefaults": {
           "line": {
            "color": "#2a3f5f"
           }
          },
          "ternary": {
           "aaxis": {
            "gridcolor": "white",
            "linecolor": "white",
            "ticks": ""
           },
           "baxis": {
            "gridcolor": "white",
            "linecolor": "white",
            "ticks": ""
           },
           "bgcolor": "#E5ECF6",
           "caxis": {
            "gridcolor": "white",
            "linecolor": "white",
            "ticks": ""
           }
          },
          "title": {
           "x": 0.05
          },
          "xaxis": {
           "automargin": true,
           "gridcolor": "white",
           "linecolor": "white",
           "ticks": "",
           "title": {
            "standoff": 15
           },
           "zerolinecolor": "white",
           "zerolinewidth": 2
          },
          "yaxis": {
           "automargin": true,
           "gridcolor": "white",
           "linecolor": "white",
           "ticks": "",
           "title": {
            "standoff": 15
           },
           "zerolinecolor": "white",
           "zerolinewidth": 2
          }
         }
        },
        "title": {
         "text": "amount of leisurefarm"
        },
        "xaxis": {
         "anchor": "y",
         "domain": [
          0,
          1
         ],
         "title": {
          "text": "city"
         }
        },
        "yaxis": {
         "anchor": "x",
         "domain": [
          0,
          1
         ],
         "title": {
          "text": "frequency"
         }
        }
       }
      },
      "text/html": [
       "<div>                            <div id=\"7a66835d-e622-4c67-bccb-d8b3f3727e07\" class=\"plotly-graph-div\" style=\"height:525px; width:100%;\"></div>            <script type=\"text/javascript\">                require([\"plotly\"], function(Plotly) {                    window.PLOTLYENV=window.PLOTLYENV || {};                                    if (document.getElementById(\"7a66835d-e622-4c67-bccb-d8b3f3727e07\")) {                    Plotly.newPlot(                        \"7a66835d-e622-4c67-bccb-d8b3f3727e07\",                        [{\"alignmentgroup\":\"True\",\"hovertemplate\":\"city=%{x}<br>frequency=%{y}<extra></extra>\",\"legendgroup\":\"\",\"marker\":{\"color\":\"#636efa\",\"pattern\":{\"shape\":\"\"}},\"name\":\"\",\"offsetgroup\":\"\",\"orientation\":\"v\",\"showlegend\":false,\"textposition\":\"auto\",\"x\":[\"\\u58be\\u4e01\\u570b\\u5bb6\\u516c\\u5712\",\"\\u58be\\u4e01\\u570b\\u5bb6\\u516c\\u5712\\u6d77\\u57df\",\"\\u7389\\u5c71\\u570b\\u5bb6\\u516c\\u5712\",\"\\u967d\\u660e\\u5c71\\u570b\\u5bb6\\u516c\\u5712\",\"\\u592a\\u9b6f\\u95a3\\u570b\\u5bb6\\u516c\\u5712\",\"\\u96ea\\u9738\\u570b\\u5bb6\\u516c\\u5712\",\"\\u91d1\\u9580\\u570b\\u5bb6\\u516c\\u5712\",\"\\u6771\\u6c99\\u74b0\\u7901\\u570b\\u5bb6\\u516c\\u5712\",\"\\u6771\\u6c99\\u74b0\\u7901\\u570b\\u5bb6\\u516c\\u5712\\u6d77\\u57df\",\"\\u53f0\\u6c5f\\u570b\\u5bb6\\u516c\\u5712\",\"\\u53f0\\u6c5f\\u570b\\u5bb6\\u516c\\u5712\\u6d77\\u57df\",\"\\u6f8e\\u6e56\\u5357\\u65b9\\u56db\\u5cf6\\u570b\\u5bb6\\u516c\\u5712\",\"\\u6f8e\\u6e56\\u5357\\u65b9\\u56db\\u5cf6\\u570b\\u5bb6\\u516c\\u5712\\u6d77\\u57df\"],\"xaxis\":\"x\",\"y\":[1,1,1,1,1,1,1,1,1,1,1,1,1],\"yaxis\":\"y\",\"type\":\"bar\"}],                        {\"template\":{\"data\":{\"bar\":[{\"error_x\":{\"color\":\"#2a3f5f\"},\"error_y\":{\"color\":\"#2a3f5f\"},\"marker\":{\"line\":{\"color\":\"#E5ECF6\",\"width\":0.5},\"pattern\":{\"fillmode\":\"overlay\",\"size\":10,\"solidity\":0.2}},\"type\":\"bar\"}],\"barpolar\":[{\"marker\":{\"line\":{\"color\":\"#E5ECF6\",\"width\":0.5},\"pattern\":{\"fillmode\":\"overlay\",\"size\":10,\"solidity\":0.2}},\"type\":\"barpolar\"}],\"carpet\":[{\"aaxis\":{\"endlinecolor\":\"#2a3f5f\",\"gridcolor\":\"white\",\"linecolor\":\"white\",\"minorgridcolor\":\"white\",\"startlinecolor\":\"#2a3f5f\"},\"baxis\":{\"endlinecolor\":\"#2a3f5f\",\"gridcolor\":\"white\",\"linecolor\":\"white\",\"minorgridcolor\":\"white\",\"startlinecolor\":\"#2a3f5f\"},\"type\":\"carpet\"}],\"choropleth\":[{\"colorbar\":{\"outlinewidth\":0,\"ticks\":\"\"},\"type\":\"choropleth\"}],\"contour\":[{\"colorbar\":{\"outlinewidth\":0,\"ticks\":\"\"},\"colorscale\":[[0.0,\"#0d0887\"],[0.1111111111111111,\"#46039f\"],[0.2222222222222222,\"#7201a8\"],[0.3333333333333333,\"#9c179e\"],[0.4444444444444444,\"#bd3786\"],[0.5555555555555556,\"#d8576b\"],[0.6666666666666666,\"#ed7953\"],[0.7777777777777778,\"#fb9f3a\"],[0.8888888888888888,\"#fdca26\"],[1.0,\"#f0f921\"]],\"type\":\"contour\"}],\"contourcarpet\":[{\"colorbar\":{\"outlinewidth\":0,\"ticks\":\"\"},\"type\":\"contourcarpet\"}],\"heatmap\":[{\"colorbar\":{\"outlinewidth\":0,\"ticks\":\"\"},\"colorscale\":[[0.0,\"#0d0887\"],[0.1111111111111111,\"#46039f\"],[0.2222222222222222,\"#7201a8\"],[0.3333333333333333,\"#9c179e\"],[0.4444444444444444,\"#bd3786\"],[0.5555555555555556,\"#d8576b\"],[0.6666666666666666,\"#ed7953\"],[0.7777777777777778,\"#fb9f3a\"],[0.8888888888888888,\"#fdca26\"],[1.0,\"#f0f921\"]],\"type\":\"heatmap\"}],\"heatmapgl\":[{\"colorbar\":{\"outlinewidth\":0,\"ticks\":\"\"},\"colorscale\":[[0.0,\"#0d0887\"],[0.1111111111111111,\"#46039f\"],[0.2222222222222222,\"#7201a8\"],[0.3333333333333333,\"#9c179e\"],[0.4444444444444444,\"#bd3786\"],[0.5555555555555556,\"#d8576b\"],[0.6666666666666666,\"#ed7953\"],[0.7777777777777778,\"#fb9f3a\"],[0.8888888888888888,\"#fdca26\"],[1.0,\"#f0f921\"]],\"type\":\"heatmapgl\"}],\"histogram\":[{\"marker\":{\"pattern\":{\"fillmode\":\"overlay\",\"size\":10,\"solidity\":0.2}},\"type\":\"histogram\"}],\"histogram2d\":[{\"colorbar\":{\"outlinewidth\":0,\"ticks\":\"\"},\"colorscale\":[[0.0,\"#0d0887\"],[0.1111111111111111,\"#46039f\"],[0.2222222222222222,\"#7201a8\"],[0.3333333333333333,\"#9c179e\"],[0.4444444444444444,\"#bd3786\"],[0.5555555555555556,\"#d8576b\"],[0.6666666666666666,\"#ed7953\"],[0.7777777777777778,\"#fb9f3a\"],[0.8888888888888888,\"#fdca26\"],[1.0,\"#f0f921\"]],\"type\":\"histogram2d\"}],\"histogram2dcontour\":[{\"colorbar\":{\"outlinewidth\":0,\"ticks\":\"\"},\"colorscale\":[[0.0,\"#0d0887\"],[0.1111111111111111,\"#46039f\"],[0.2222222222222222,\"#7201a8\"],[0.3333333333333333,\"#9c179e\"],[0.4444444444444444,\"#bd3786\"],[0.5555555555555556,\"#d8576b\"],[0.6666666666666666,\"#ed7953\"],[0.7777777777777778,\"#fb9f3a\"],[0.8888888888888888,\"#fdca26\"],[1.0,\"#f0f921\"]],\"type\":\"histogram2dcontour\"}],\"mesh3d\":[{\"colorbar\":{\"outlinewidth\":0,\"ticks\":\"\"},\"type\":\"mesh3d\"}],\"parcoords\":[{\"line\":{\"colorbar\":{\"outlinewidth\":0,\"ticks\":\"\"}},\"type\":\"parcoords\"}],\"pie\":[{\"automargin\":true,\"type\":\"pie\"}],\"scatter\":[{\"marker\":{\"colorbar\":{\"outlinewidth\":0,\"ticks\":\"\"}},\"type\":\"scatter\"}],\"scatter3d\":[{\"line\":{\"colorbar\":{\"outlinewidth\":0,\"ticks\":\"\"}},\"marker\":{\"colorbar\":{\"outlinewidth\":0,\"ticks\":\"\"}},\"type\":\"scatter3d\"}],\"scattercarpet\":[{\"marker\":{\"colorbar\":{\"outlinewidth\":0,\"ticks\":\"\"}},\"type\":\"scattercarpet\"}],\"scattergeo\":[{\"marker\":{\"colorbar\":{\"outlinewidth\":0,\"ticks\":\"\"}},\"type\":\"scattergeo\"}],\"scattergl\":[{\"marker\":{\"colorbar\":{\"outlinewidth\":0,\"ticks\":\"\"}},\"type\":\"scattergl\"}],\"scattermapbox\":[{\"marker\":{\"colorbar\":{\"outlinewidth\":0,\"ticks\":\"\"}},\"type\":\"scattermapbox\"}],\"scatterpolar\":[{\"marker\":{\"colorbar\":{\"outlinewidth\":0,\"ticks\":\"\"}},\"type\":\"scatterpolar\"}],\"scatterpolargl\":[{\"marker\":{\"colorbar\":{\"outlinewidth\":0,\"ticks\":\"\"}},\"type\":\"scatterpolargl\"}],\"scatterternary\":[{\"marker\":{\"colorbar\":{\"outlinewidth\":0,\"ticks\":\"\"}},\"type\":\"scatterternary\"}],\"surface\":[{\"colorbar\":{\"outlinewidth\":0,\"ticks\":\"\"},\"colorscale\":[[0.0,\"#0d0887\"],[0.1111111111111111,\"#46039f\"],[0.2222222222222222,\"#7201a8\"],[0.3333333333333333,\"#9c179e\"],[0.4444444444444444,\"#bd3786\"],[0.5555555555555556,\"#d8576b\"],[0.6666666666666666,\"#ed7953\"],[0.7777777777777778,\"#fb9f3a\"],[0.8888888888888888,\"#fdca26\"],[1.0,\"#f0f921\"]],\"type\":\"surface\"}],\"table\":[{\"cells\":{\"fill\":{\"color\":\"#EBF0F8\"},\"line\":{\"color\":\"white\"}},\"header\":{\"fill\":{\"color\":\"#C8D4E3\"},\"line\":{\"color\":\"white\"}},\"type\":\"table\"}]},\"layout\":{\"annotationdefaults\":{\"arrowcolor\":\"#2a3f5f\",\"arrowhead\":0,\"arrowwidth\":1},\"autotypenumbers\":\"strict\",\"coloraxis\":{\"colorbar\":{\"outlinewidth\":0,\"ticks\":\"\"}},\"colorscale\":{\"diverging\":[[0,\"#8e0152\"],[0.1,\"#c51b7d\"],[0.2,\"#de77ae\"],[0.3,\"#f1b6da\"],[0.4,\"#fde0ef\"],[0.5,\"#f7f7f7\"],[0.6,\"#e6f5d0\"],[0.7,\"#b8e186\"],[0.8,\"#7fbc41\"],[0.9,\"#4d9221\"],[1,\"#276419\"]],\"sequential\":[[0.0,\"#0d0887\"],[0.1111111111111111,\"#46039f\"],[0.2222222222222222,\"#7201a8\"],[0.3333333333333333,\"#9c179e\"],[0.4444444444444444,\"#bd3786\"],[0.5555555555555556,\"#d8576b\"],[0.6666666666666666,\"#ed7953\"],[0.7777777777777778,\"#fb9f3a\"],[0.8888888888888888,\"#fdca26\"],[1.0,\"#f0f921\"]],\"sequentialminus\":[[0.0,\"#0d0887\"],[0.1111111111111111,\"#46039f\"],[0.2222222222222222,\"#7201a8\"],[0.3333333333333333,\"#9c179e\"],[0.4444444444444444,\"#bd3786\"],[0.5555555555555556,\"#d8576b\"],[0.6666666666666666,\"#ed7953\"],[0.7777777777777778,\"#fb9f3a\"],[0.8888888888888888,\"#fdca26\"],[1.0,\"#f0f921\"]]},\"colorway\":[\"#636efa\",\"#EF553B\",\"#00cc96\",\"#ab63fa\",\"#FFA15A\",\"#19d3f3\",\"#FF6692\",\"#B6E880\",\"#FF97FF\",\"#FECB52\"],\"font\":{\"color\":\"#2a3f5f\"},\"geo\":{\"bgcolor\":\"white\",\"lakecolor\":\"white\",\"landcolor\":\"#E5ECF6\",\"showlakes\":true,\"showland\":true,\"subunitcolor\":\"white\"},\"hoverlabel\":{\"align\":\"left\"},\"hovermode\":\"closest\",\"mapbox\":{\"style\":\"light\"},\"paper_bgcolor\":\"white\",\"plot_bgcolor\":\"#E5ECF6\",\"polar\":{\"angularaxis\":{\"gridcolor\":\"white\",\"linecolor\":\"white\",\"ticks\":\"\"},\"bgcolor\":\"#E5ECF6\",\"radialaxis\":{\"gridcolor\":\"white\",\"linecolor\":\"white\",\"ticks\":\"\"}},\"scene\":{\"xaxis\":{\"backgroundcolor\":\"#E5ECF6\",\"gridcolor\":\"white\",\"gridwidth\":2,\"linecolor\":\"white\",\"showbackground\":true,\"ticks\":\"\",\"zerolinecolor\":\"white\"},\"yaxis\":{\"backgroundcolor\":\"#E5ECF6\",\"gridcolor\":\"white\",\"gridwidth\":2,\"linecolor\":\"white\",\"showbackground\":true,\"ticks\":\"\",\"zerolinecolor\":\"white\"},\"zaxis\":{\"backgroundcolor\":\"#E5ECF6\",\"gridcolor\":\"white\",\"gridwidth\":2,\"linecolor\":\"white\",\"showbackground\":true,\"ticks\":\"\",\"zerolinecolor\":\"white\"}},\"shapedefaults\":{\"line\":{\"color\":\"#2a3f5f\"}},\"ternary\":{\"aaxis\":{\"gridcolor\":\"white\",\"linecolor\":\"white\",\"ticks\":\"\"},\"baxis\":{\"gridcolor\":\"white\",\"linecolor\":\"white\",\"ticks\":\"\"},\"bgcolor\":\"#E5ECF6\",\"caxis\":{\"gridcolor\":\"white\",\"linecolor\":\"white\",\"ticks\":\"\"}},\"title\":{\"x\":0.05},\"xaxis\":{\"automargin\":true,\"gridcolor\":\"white\",\"linecolor\":\"white\",\"ticks\":\"\",\"title\":{\"standoff\":15},\"zerolinecolor\":\"white\",\"zerolinewidth\":2},\"yaxis\":{\"automargin\":true,\"gridcolor\":\"white\",\"linecolor\":\"white\",\"ticks\":\"\",\"title\":{\"standoff\":15},\"zerolinecolor\":\"white\",\"zerolinewidth\":2}}},\"xaxis\":{\"anchor\":\"y\",\"domain\":[0.0,1.0],\"title\":{\"text\":\"city\"}},\"yaxis\":{\"anchor\":\"x\",\"domain\":[0.0,1.0],\"title\":{\"text\":\"frequency\"}},\"legend\":{\"tracegroupgap\":0},\"title\":{\"text\":\"amount of leisurefarm\"},\"barmode\":\"relative\"},                        {\"responsive\": true}                    ).then(function(){\n",
       "                            \n",
       "var gd = document.getElementById('7a66835d-e622-4c67-bccb-d8b3f3727e07');\n",
       "var x = new MutationObserver(function (mutations, observer) {{\n",
       "        var display = window.getComputedStyle(gd).display;\n",
       "        if (!display || display === 'none') {{\n",
       "            console.log([gd, 'removed!']);\n",
       "            Plotly.purge(gd);\n",
       "            observer.disconnect();\n",
       "        }}\n",
       "}});\n",
       "\n",
       "// Listen for the removal of the full notebook cells\n",
       "var notebookContainer = gd.closest('#notebook-container');\n",
       "if (notebookContainer) {{\n",
       "    x.observe(notebookContainer, {childList: true});\n",
       "}}\n",
       "\n",
       "// Listen for the clearing of the current output cell\n",
       "var outputEl = gd.closest('.output');\n",
       "if (outputEl) {{\n",
       "    x.observe(outputEl, {childList: true});\n",
       "}}\n",
       "\n",
       "                        })                };                });            </script>        </div>"
      ]
     },
     "metadata": {},
     "output_type": "display_data"
    }
   ],
   "source": [
    "import plotly.express as px\n",
    "import pandas as pd\n",
    "\n",
    "px.bar(result, x='city', y='frequency', title='amount of leisurefarm')"
   ]
  },
  {
   "cell_type": "code",
   "execution_count": 46,
   "id": "2f168de3",
   "metadata": {},
   "outputs": [
    {
     "data": {
      "text/html": [
       "<div>\n",
       "<style scoped>\n",
       "    .dataframe tbody tr th:only-of-type {\n",
       "        vertical-align: middle;\n",
       "    }\n",
       "\n",
       "    .dataframe tbody tr th {\n",
       "        vertical-align: top;\n",
       "    }\n",
       "\n",
       "    .dataframe thead th {\n",
       "        text-align: right;\n",
       "    }\n",
       "</style>\n",
       "<table border=\"1\" class=\"dataframe\">\n",
       "  <thead>\n",
       "    <tr style=\"text-align: right;\">\n",
       "      <th></th>\n",
       "      <th>年</th>\n",
       "      <th>國家公園名稱</th>\n",
       "      <th>面積</th>\n",
       "      <th>生態保護區面積</th>\n",
       "      <th>特別景觀區面積</th>\n",
       "      <th>史蹟保存區面積</th>\n",
       "      <th>遊憩區面積</th>\n",
       "      <th>一般管制區面積</th>\n",
       "      <th>公布實施日期</th>\n",
       "      <th>設置管理單位日期</th>\n",
       "      <th>行政區域</th>\n",
       "      <th>city</th>\n",
       "    </tr>\n",
       "  </thead>\n",
       "  <tbody>\n",
       "  </tbody>\n",
       "</table>\n",
       "</div>"
      ],
      "text/plain": [
       "Empty DataFrame\n",
       "Columns: [年, 國家公園名稱, 面積, 生態保護區面積, 特別景觀區面積, 史蹟保存區面積, 遊憩區面積, 一般管制區面積, 公布實施日期, 設置管理單位日期, 行政區域, city]\n",
       "Index: []"
      ]
     },
     "execution_count": 46,
     "metadata": {},
     "output_type": "execute_result"
    }
   ],
   "source": [
    "show_sub = orgdata['city']=='玉山'\n",
    "subdata = orgdata[show_sub]\n",
    "subdata"
   ]
  },
  {
   "cell_type": "code",
   "execution_count": 47,
   "id": "8c37ac2e",
   "metadata": {},
   "outputs": [
    {
     "ename": "KeyError",
     "evalue": "'seg'",
     "output_type": "error",
     "traceback": [
      "\u001b[1;31m---------------------------------------------------------------------------\u001b[0m",
      "\u001b[1;31mKeyError\u001b[0m                                  Traceback (most recent call last)",
      "File \u001b[1;32mC:\\ProgramData\\Anaconda3\\lib\\site-packages\\pandas\\core\\indexes\\base.py:3621\u001b[0m, in \u001b[0;36mIndex.get_loc\u001b[1;34m(self, key, method, tolerance)\u001b[0m\n\u001b[0;32m   3620\u001b[0m \u001b[38;5;28;01mtry\u001b[39;00m:\n\u001b[1;32m-> 3621\u001b[0m     \u001b[38;5;28;01mreturn\u001b[39;00m \u001b[38;5;28;43mself\u001b[39;49m\u001b[38;5;241;43m.\u001b[39;49m\u001b[43m_engine\u001b[49m\u001b[38;5;241;43m.\u001b[39;49m\u001b[43mget_loc\u001b[49m\u001b[43m(\u001b[49m\u001b[43mcasted_key\u001b[49m\u001b[43m)\u001b[49m\n\u001b[0;32m   3622\u001b[0m \u001b[38;5;28;01mexcept\u001b[39;00m \u001b[38;5;167;01mKeyError\u001b[39;00m \u001b[38;5;28;01mas\u001b[39;00m err:\n",
      "File \u001b[1;32mC:\\ProgramData\\Anaconda3\\lib\\site-packages\\pandas\\_libs\\index.pyx:136\u001b[0m, in \u001b[0;36mpandas._libs.index.IndexEngine.get_loc\u001b[1;34m()\u001b[0m\n",
      "File \u001b[1;32mC:\\ProgramData\\Anaconda3\\lib\\site-packages\\pandas\\_libs\\index.pyx:163\u001b[0m, in \u001b[0;36mpandas._libs.index.IndexEngine.get_loc\u001b[1;34m()\u001b[0m\n",
      "File \u001b[1;32mpandas\\_libs\\hashtable_class_helper.pxi:5198\u001b[0m, in \u001b[0;36mpandas._libs.hashtable.PyObjectHashTable.get_item\u001b[1;34m()\u001b[0m\n",
      "File \u001b[1;32mpandas\\_libs\\hashtable_class_helper.pxi:5206\u001b[0m, in \u001b[0;36mpandas._libs.hashtable.PyObjectHashTable.get_item\u001b[1;34m()\u001b[0m\n",
      "\u001b[1;31mKeyError\u001b[0m: 'seg'",
      "\nThe above exception was the direct cause of the following exception:\n",
      "\u001b[1;31mKeyError\u001b[0m                                  Traceback (most recent call last)",
      "Input \u001b[1;32mIn [47]\u001b[0m, in \u001b[0;36m<cell line: 1>\u001b[1;34m()\u001b[0m\n\u001b[1;32m----> 1\u001b[0m \u001b[38;5;28mtype\u001b[39m(\u001b[43msubdata\u001b[49m\u001b[43m[\u001b[49m\u001b[38;5;124;43m'\u001b[39;49m\u001b[38;5;124;43mseg\u001b[39;49m\u001b[38;5;124;43m'\u001b[39;49m\u001b[43m]\u001b[49m)\n",
      "File \u001b[1;32mC:\\ProgramData\\Anaconda3\\lib\\site-packages\\pandas\\core\\frame.py:3505\u001b[0m, in \u001b[0;36mDataFrame.__getitem__\u001b[1;34m(self, key)\u001b[0m\n\u001b[0;32m   3503\u001b[0m \u001b[38;5;28;01mif\u001b[39;00m \u001b[38;5;28mself\u001b[39m\u001b[38;5;241m.\u001b[39mcolumns\u001b[38;5;241m.\u001b[39mnlevels \u001b[38;5;241m>\u001b[39m \u001b[38;5;241m1\u001b[39m:\n\u001b[0;32m   3504\u001b[0m     \u001b[38;5;28;01mreturn\u001b[39;00m \u001b[38;5;28mself\u001b[39m\u001b[38;5;241m.\u001b[39m_getitem_multilevel(key)\n\u001b[1;32m-> 3505\u001b[0m indexer \u001b[38;5;241m=\u001b[39m \u001b[38;5;28;43mself\u001b[39;49m\u001b[38;5;241;43m.\u001b[39;49m\u001b[43mcolumns\u001b[49m\u001b[38;5;241;43m.\u001b[39;49m\u001b[43mget_loc\u001b[49m\u001b[43m(\u001b[49m\u001b[43mkey\u001b[49m\u001b[43m)\u001b[49m\n\u001b[0;32m   3506\u001b[0m \u001b[38;5;28;01mif\u001b[39;00m is_integer(indexer):\n\u001b[0;32m   3507\u001b[0m     indexer \u001b[38;5;241m=\u001b[39m [indexer]\n",
      "File \u001b[1;32mC:\\ProgramData\\Anaconda3\\lib\\site-packages\\pandas\\core\\indexes\\base.py:3623\u001b[0m, in \u001b[0;36mIndex.get_loc\u001b[1;34m(self, key, method, tolerance)\u001b[0m\n\u001b[0;32m   3621\u001b[0m     \u001b[38;5;28;01mreturn\u001b[39;00m \u001b[38;5;28mself\u001b[39m\u001b[38;5;241m.\u001b[39m_engine\u001b[38;5;241m.\u001b[39mget_loc(casted_key)\n\u001b[0;32m   3622\u001b[0m \u001b[38;5;28;01mexcept\u001b[39;00m \u001b[38;5;167;01mKeyError\u001b[39;00m \u001b[38;5;28;01mas\u001b[39;00m err:\n\u001b[1;32m-> 3623\u001b[0m     \u001b[38;5;28;01mraise\u001b[39;00m \u001b[38;5;167;01mKeyError\u001b[39;00m(key) \u001b[38;5;28;01mfrom\u001b[39;00m \u001b[38;5;21;01merr\u001b[39;00m\n\u001b[0;32m   3624\u001b[0m \u001b[38;5;28;01mexcept\u001b[39;00m \u001b[38;5;167;01mTypeError\u001b[39;00m:\n\u001b[0;32m   3625\u001b[0m     \u001b[38;5;66;03m# If we have a listlike key, _check_indexing_error will raise\u001b[39;00m\n\u001b[0;32m   3626\u001b[0m     \u001b[38;5;66;03m#  InvalidIndexError. Otherwise we fall through and re-raise\u001b[39;00m\n\u001b[0;32m   3627\u001b[0m     \u001b[38;5;66;03m#  the TypeError.\u001b[39;00m\n\u001b[0;32m   3628\u001b[0m     \u001b[38;5;28mself\u001b[39m\u001b[38;5;241m.\u001b[39m_check_indexing_error(key)\n",
      "\u001b[1;31mKeyError\u001b[0m: 'seg'"
     ]
    }
   ],
   "source": []
  },
  {
   "cell_type": "code",
   "execution_count": null,
   "id": "71a87b0b",
   "metadata": {},
   "outputs": [],
   "source": []
  }
 ],
 "metadata": {
  "kernelspec": {
   "display_name": "Python 3 (ipykernel)",
   "language": "python",
   "name": "python3"
  },
  "language_info": {
   "codemirror_mode": {
    "name": "ipython",
    "version": 3
   },
   "file_extension": ".py",
   "mimetype": "text/x-python",
   "name": "python",
   "nbconvert_exporter": "python",
   "pygments_lexer": "ipython3",
   "version": "3.9.12"
  }
 },
 "nbformat": 4,
 "nbformat_minor": 5
}
