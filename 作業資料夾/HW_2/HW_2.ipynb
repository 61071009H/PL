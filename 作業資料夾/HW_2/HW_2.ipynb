{
 "cells": [
  {
   "cell_type": "markdown",
   "id": "d1240f1b",
   "metadata": {},
   "source": [
    "# 第二次作業"
   ]
  },
  {
   "cell_type": "code",
   "execution_count": 2,
   "id": "de7ebae9",
   "metadata": {},
   "outputs": [
    {
     "name": "stdout",
     "output_type": "stream",
     "text": [
      "['咖啡店', '速食店']\n",
      "[['星巴克', '丹堤', '卡瑪', '7-11', '全家', '萊爾富'], ['頂呱呱', '麥當勞', '肯德雞', 'subway', '蘿蔔絲餅', '師園']]\n",
      "7-11\n",
      "{'咖啡店': ['星巴克', '丹堤', '卡瑪', '7-11', '全家', '萊爾富'], '速食店': ['頂呱呱', '麥當勞', '肯德雞', 'subway', '蘿蔔絲餅', '師園']}\n"
     ]
    }
   ],
   "source": [
    "d={\"咖啡店\":[\"星巴克\",\"丹堤\",\"卡瑪\",\"7-11\",\"全家\",\"萊爾富\"],\n",
    "   \"速食店\":[\"頂呱呱\",\"麥當勞\",\"肯德雞\",\"subway\",\"蘿蔔絲餅\",\"師園\"]}\n",
    "\n",
    "\n",
    "cofe=list(d.keys())\n",
    "print(cofe)\n",
    "fastfood=list(d.values())\n",
    "print(fastfood)\n",
    "\n",
    "\n",
    "print(d[\"咖啡店\"][3]) #第四個名稱\n",
    "\n",
    "d[\"速食店\"]=[\"頂呱呱\",\"麥當勞\",\"肯德雞\",\"subway\",\"蘿蔔絲餅\",\"師園\"]\n",
    "print(d)"
   ]
  },
  {
   "cell_type": "code",
   "execution_count": 3,
   "id": "cfb974b3",
   "metadata": {},
   "outputs": [],
   "source": [
    "# 將資料存成json檔並放入dict中\n",
    "import json"
   ]
  },
  {
   "cell_type": "code",
   "execution_count": 21,
   "id": "44410048",
   "metadata": {},
   "outputs": [],
   "source": [
    "parking = open('',encoding=\"utf8\")"
   ]
  },
  {
   "cell_type": "code",
   "execution_count": 22,
   "id": "2bd11405",
   "metadata": {},
   "outputs": [],
   "source": [
    "parking_01 = json.load(parking)"
   ]
  },
  {
   "cell_type": "code",
   "execution_count": 23,
   "id": "20475353",
   "metadata": {},
   "outputs": [
    {
     "data": {
      "text/plain": [
       "list"
      ]
     },
     "execution_count": 23,
     "metadata": {},
     "output_type": "execute_result"
    }
   ],
   "source": [
    "type(parking_01)"
   ]
  },
  {
   "cell_type": "code",
   "execution_count": null,
   "id": "c28a28e3",
   "metadata": {},
   "outputs": [],
   "source": []
  }
 ],
 "metadata": {
  "kernelspec": {
   "display_name": "Python 3 (ipykernel)",
   "language": "python",
   "name": "python3"
  },
  "language_info": {
   "codemirror_mode": {
    "name": "ipython",
    "version": 3
   },
   "file_extension": ".py",
   "mimetype": "text/x-python",
   "name": "python",
   "nbconvert_exporter": "python",
   "pygments_lexer": "ipython3",
   "version": "3.9.12"
  }
 },
 "nbformat": 4,
 "nbformat_minor": 5
}
