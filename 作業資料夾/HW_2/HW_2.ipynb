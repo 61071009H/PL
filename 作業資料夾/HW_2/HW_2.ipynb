{
 "cells": [
  {
   "cell_type": "markdown",
   "id": "d1240f1b",
   "metadata": {},
   "source": [
    "# 第二次作業"
   ]
  },
  {
   "cell_type": "code",
   "execution_count": 2,
   "id": "de7ebae9",
   "metadata": {},
   "outputs": [
    {
     "name": "stdout",
     "output_type": "stream",
     "text": [
      "['咖啡店', '速食店']\n",
      "[['星巴克', '丹堤', '卡瑪', '7-11', '全家', '萊爾富'], ['頂呱呱', '麥當勞', '肯德雞', 'subway', '蘿蔔絲餅', '師園']]\n",
      "7-11\n",
      "{'咖啡店': ['星巴克', '丹堤', '卡瑪', '7-11', '全家', '萊爾富'], '速食店': ['頂呱呱', '麥當勞', '肯德雞', 'subway', '蘿蔔絲餅', '師園']}\n"
     ]
    }
   ],
   "source": [
    "d={\"咖啡店\":[\"星巴克\",\"丹堤\",\"卡瑪\",\"7-11\",\"全家\",\"萊爾富\"],\n",
    "   \"速食店\":[\"頂呱呱\",\"麥當勞\",\"肯德雞\",\"subway\",\"蘿蔔絲餅\",\"師園\"]}\n",
    "\n",
    "\n",
    "cofe=list(d.keys())\n",
    "print(cofe)\n",
    "fastfood=list(d.values())\n",
    "print(fastfood)\n",
    "\n",
    "\n",
    "print(d[\"咖啡店\"][3]) #第四個名稱\n",
    "\n",
    "d[\"速食店\"]=[\"頂呱呱\",\"麥當勞\",\"肯德雞\",\"subway\",\"蘿蔔絲餅\",\"師園\"]\n",
    "print(d)"
   ]
  },
  {
   "cell_type": "code",
   "execution_count": 22,
   "id": "cfb974b3",
   "metadata": {},
   "outputs": [],
   "source": [
    "import json\n",
    "\n",
    "# 將資料存成json檔並放入dict中"
   ]
  },
  {
   "cell_type": "code",
   "execution_count": 45,
   "id": "1aedd06f",
   "metadata": {},
   "outputs": [
    {
     "data": {
      "text/plain": [
       "dict"
      ]
     },
     "execution_count": 45,
     "metadata": {},
     "output_type": "execute_result"
    }
   ],
   "source": [
    "parking = open('parking.json',encoding=\"utf8\")\n",
    "parking2 = json.load(parking)\n",
    "type(parking_01)\n",
    "\n",
    "#使用管委會的停車位登記表"
   ]
  },
  {
   "cell_type": "code",
   "execution_count": 46,
   "id": "0d3a9057",
   "metadata": {},
   "outputs": [
    {
     "data": {
      "text/plain": [
       "dict_items([('停車', [{'姓名': '邊苑福', '停車位號碼': 1234, '車型': '機車', '車種': '自排'}, {'姓名': '楊雅雲', '停車位號碼': 1235, '車型': '汽車', '車種': '自排'}, {'姓名': '吳佳伶', '停車位號碼': 1236, '車型': '汽車', '車種': '自排'}, {'姓名': '陳呈合', '停車位號碼': 1237, '車型': '汽車', '車種': '自排'}, {'姓名': '黃麗春', '停車位號碼': 1238, '車型': '機車', '車種': '檔車'}, {'姓名': '彭詩涵', '停車位號碼': 1239, '車型': '機車', '車種': '檔車'}, {'姓名': '陳瑞韋', '停車位號碼': 1240, '車型': '汽車', '車種': '自排'}, {'姓名': '錢松桓', '停車位號碼': 1241, '車型': '汽車', '車種': '自排'}])])"
      ]
     },
     "execution_count": 46,
     "metadata": {},
     "output_type": "execute_result"
    }
   ],
   "source": [
    "parking2.items()\n",
    "\n",
    "#確認讀出字典"
   ]
  },
  {
   "cell_type": "code",
   "execution_count": 47,
   "id": "d37f2335",
   "metadata": {},
   "outputs": [
    {
     "data": {
      "text/plain": [
       "[{'姓名': '邊苑福', '停車位號碼': 1234, '車型': '機車', '車種': '自排'},\n",
       " {'姓名': '楊雅雲', '停車位號碼': 1235, '車型': '汽車', '車種': '自排'},\n",
       " {'姓名': '吳佳伶', '停車位號碼': 1236, '車型': '汽車', '車種': '自排'},\n",
       " {'姓名': '陳呈合', '停車位號碼': 1237, '車型': '汽車', '車種': '自排'},\n",
       " {'姓名': '黃麗春', '停車位號碼': 1238, '車型': '機車', '車種': '檔車'},\n",
       " {'姓名': '彭詩涵', '停車位號碼': 1239, '車型': '機車', '車種': '檔車'},\n",
       " {'姓名': '陳瑞韋', '停車位號碼': 1240, '車型': '汽車', '車種': '自排'},\n",
       " {'姓名': '錢松桓', '停車位號碼': 1241, '車型': '汽車', '車種': '自排'}]"
      ]
     },
     "execution_count": 47,
     "metadata": {},
     "output_type": "execute_result"
    }
   ],
   "source": [
    "temp = parking2.get(\"停車\")\n",
    "temp"
   ]
  },
  {
   "cell_type": "code",
   "execution_count": 48,
   "id": "715c0bf0",
   "metadata": {},
   "outputs": [],
   "source": [
    "ask = \"錢松桓\"\n",
    "\n",
    "#輸入想查詢的人"
   ]
  },
  {
   "cell_type": "code",
   "execution_count": 57,
   "id": "8fcc0fc6",
   "metadata": {},
   "outputs": [
    {
     "name": "stdout",
     "output_type": "stream",
     "text": [
      "錢松桓 車型 汽車\n"
     ]
    }
   ],
   "source": [
    "for i in temp:\n",
    "    if ask == i.get('姓名'):\n",
    "        print(ask, '車型', i.get('車型'))\n",
    "        \n",
    "# 輸入想查詢什麼內容，這裡想要查他的停車位號碼"
   ]
  },
  {
   "cell_type": "code",
   "execution_count": 58,
   "id": "33a7cc38",
   "metadata": {},
   "outputs": [
    {
     "data": {
      "text/plain": [
       "[1234, 1235, 1236, 1237, 1238, 1239, 1240, 1241]"
      ]
     },
     "execution_count": 58,
     "metadata": {},
     "output_type": "execute_result"
    }
   ],
   "source": [
    "area = []\n",
    "for i in temp:\n",
    "    area.append(i.get(\"停車位號碼\"))\n",
    "area\n",
    "\n",
    "#排序大家的停車位號碼"
   ]
  },
  {
   "cell_type": "code",
   "execution_count": 59,
   "id": "a14aeaa5",
   "metadata": {},
   "outputs": [],
   "source": [
    "area_enumerate = enumerate(area, start = 1)"
   ]
  },
  {
   "cell_type": "code",
   "execution_count": 60,
   "id": "ef6f4b6c",
   "metadata": {},
   "outputs": [],
   "source": [
    "area_enumerate_sorted = sorted(area_enumerate, key = lambda s: s[1], reverse = True)\n"
   ]
  },
  {
   "cell_type": "code",
   "execution_count": 61,
   "id": "8ba1eb99",
   "metadata": {},
   "outputs": [
    {
     "data": {
      "text/plain": [
       "[(8, 1241),\n",
       " (7, 1240),\n",
       " (6, 1239),\n",
       " (5, 1238),\n",
       " (4, 1237),\n",
       " (3, 1236),\n",
       " (2, 1235),\n",
       " (1, 1234)]"
      ]
     },
     "execution_count": 61,
     "metadata": {},
     "output_type": "execute_result"
    }
   ],
   "source": [
    "area_enumerate_sorted"
   ]
  },
  {
   "cell_type": "code",
   "execution_count": 64,
   "id": "36c1d254",
   "metadata": {},
   "outputs": [
    {
     "data": {
      "text/plain": [
       "6"
      ]
     },
     "execution_count": 64,
     "metadata": {},
     "output_type": "execute_result"
    }
   ],
   "source": [
    "area_enumerate_sorted[2][0]\n",
    "\n",
    "#查第四個"
   ]
  },
  {
   "cell_type": "code",
   "execution_count": 67,
   "id": "a05a5ed0",
   "metadata": {},
   "outputs": [
    {
     "name": "stdout",
     "output_type": "stream",
     "text": [
      "錢松桓 是 1241 號\n",
      "陳瑞韋 是 1240 號\n",
      "彭詩涵 是 1239 號\n",
      "黃麗春 是 1238 號\n",
      "陳呈合 是 1237 號\n",
      "吳佳伶 是 1236 號\n",
      "楊雅雲 是 1235 號\n",
      "邊苑福 是 1234 號\n"
     ]
    }
   ],
   "source": [
    "for i in area_enumerate_sorted:\n",
    "    j = i[0] -1\n",
    "    print(temp[j].get(\"姓名\"),\"是\",temp[j].get(\"停車位號碼\"),\"號\")\n",
    "    \n",
    "#排序並印出人名所對應的停車位號碼"
   ]
  }
 ],
 "metadata": {
  "kernelspec": {
   "display_name": "Python 3 (ipykernel)",
   "language": "python",
   "name": "python3"
  },
  "language_info": {
   "codemirror_mode": {
    "name": "ipython",
    "version": 3
   },
   "file_extension": ".py",
   "mimetype": "text/x-python",
   "name": "python",
   "nbconvert_exporter": "python",
   "pygments_lexer": "ipython3",
   "version": "3.9.12"
  }
 },
 "nbformat": 4,
 "nbformat_minor": 5
}
