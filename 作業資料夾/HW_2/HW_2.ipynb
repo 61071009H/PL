{
 "cells": [
  {
   "cell_type": "markdown",
   "id": "d1240f1b",
   "metadata": {},
   "source": [
    "# 第二次作業"
   ]
  },
  {
   "cell_type": "code",
   "execution_count": 2,
   "id": "de7ebae9",
   "metadata": {},
   "outputs": [
    {
     "name": "stdout",
     "output_type": "stream",
     "text": [
      "['咖啡店', '速食店']\n",
      "[['星巴克', '丹堤', '卡瑪', '7-11', '全家', '萊爾富'], ['頂呱呱', '麥當勞', '肯德雞', 'subway', '蘿蔔絲餅', '師園']]\n",
      "7-11\n",
      "{'咖啡店': ['星巴克', '丹堤', '卡瑪', '7-11', '全家', '萊爾富'], '速食店': ['頂呱呱', '麥當勞', '肯德雞', 'subway', '蘿蔔絲餅', '師園']}\n"
     ]
    }
   ],
   "source": [
    "d={\"咖啡店\":[\"星巴克\",\"丹堤\",\"卡瑪\",\"7-11\",\"全家\",\"萊爾富\"],\n",
    "   \"速食店\":[\"頂呱呱\",\"麥當勞\",\"肯德雞\",\"subway\",\"蘿蔔絲餅\",\"師園\"]}\n",
    "\n",
    "\n",
    "cofe=list(d.keys())\n",
    "print(cofe)\n",
    "fastfood=list(d.values())\n",
    "print(fastfood)\n",
    "\n",
    "\n",
    "print(d[\"咖啡店\"][3]) #第四個名稱\n",
    "\n",
    "d[\"速食店\"]=[\"頂呱呱\",\"麥當勞\",\"肯德雞\",\"subway\",\"蘿蔔絲餅\",\"師園\"]\n",
    "print(d)"
   ]
  },
  {
   "cell_type": "code",
   "execution_count": 22,
   "id": "cfb974b3",
   "metadata": {},
   "outputs": [],
   "source": [
    "import json\n",
    "\n",
    "# 將資料存成json檔並放入dict中"
   ]
  },
  {
   "cell_type": "code",
   "execution_count": 23,
   "id": "045471cf",
   "metadata": {},
   "outputs": [
    {
     "data": {
      "text/plain": [
       "dict"
      ]
     },
     "execution_count": 23,
     "metadata": {},
     "output_type": "execute_result"
    }
   ],
   "source": [
    "parking = open('parking.json',encoding=\"utf8\")\n",
    "Data = json.load(parking)\n",
    "type(Data)\n",
    "\n",
    "#使用管委會的停車位登記表"
   ]
  },
  {
   "cell_type": "code",
   "execution_count": 24,
   "id": "8c957f5f",
   "metadata": {},
   "outputs": [
    {
     "data": {
      "text/plain": [
       "dict_items([('停車', [{'姓名': '邊苑福', '停車位號碼': 1234, '車型': '機車', '車種': '自排'}, {'姓名': '楊雅雲', '停車位號碼': 1235, '車型': '汽車', '車種': '自排'}, {'姓名': '吳佳伶', '停車位號碼': 1236, '車型': '汽車', '車種': '自排'}, {'姓名': '陳呈合', '停車位號碼': 1237, '車型': '汽車', '車種': '自排'}, {'姓名': '黃麗春', '停車位號碼': 1238, '車型': '機車', '車種': '檔車'}, {'姓名': '彭詩涵', '停車位號碼': 1239, '車型': '機車', '車種': '檔車'}, {'姓名': '陳瑞韋', '停車位號碼': 1240, '車型': '汽車', '車種': '自排'}, {'姓名': '錢松桓', '停車位號碼': 1241, '車型': '汽車', '車種': '自排'}])])"
      ]
     },
     "execution_count": 24,
     "metadata": {},
     "output_type": "execute_result"
    }
   ],
   "source": [
    "Data.items()\n",
    "\n",
    "#確認讀出字典"
   ]
  },
  {
   "cell_type": "code",
   "execution_count": 25,
   "id": "02a9c319",
   "metadata": {},
   "outputs": [
    {
     "data": {
      "text/plain": [
       "[{'姓名': '邊苑福', '停車位號碼': 1234, '車型': '機車', '車種': '自排'},\n",
       " {'姓名': '楊雅雲', '停車位號碼': 1235, '車型': '汽車', '車種': '自排'},\n",
       " {'姓名': '吳佳伶', '停車位號碼': 1236, '車型': '汽車', '車種': '自排'},\n",
       " {'姓名': '陳呈合', '停車位號碼': 1237, '車型': '汽車', '車種': '自排'},\n",
       " {'姓名': '黃麗春', '停車位號碼': 1238, '車型': '機車', '車種': '檔車'},\n",
       " {'姓名': '彭詩涵', '停車位號碼': 1239, '車型': '機車', '車種': '檔車'},\n",
       " {'姓名': '陳瑞韋', '停車位號碼': 1240, '車型': '汽車', '車種': '自排'},\n",
       " {'姓名': '錢松桓', '停車位號碼': 1241, '車型': '汽車', '車種': '自排'}]"
      ]
     },
     "execution_count": 25,
     "metadata": {},
     "output_type": "execute_result"
    }
   ],
   "source": [
    "temp = Data.get(\"停車\")\n",
    "temp"
   ]
  },
  {
   "cell_type": "code",
   "execution_count": 26,
   "id": "f470f5b6",
   "metadata": {},
   "outputs": [],
   "source": [
    "ask = \"錢松桓\"\n",
    "\n",
    "#輸入想查詢的人"
   ]
  },
  {
   "cell_type": "code",
   "execution_count": 21,
   "id": "be7539b0",
   "metadata": {},
   "outputs": [
    {
     "name": "stdout",
     "output_type": "stream",
     "text": [
      "錢松桓 停車位號碼 1241\n"
     ]
    }
   ],
   "source": [
    "for i in temp:\n",
    "    if ask == i.get('姓名'):\n",
    "        print(ask, '停車位號碼', i.get('停車位號碼'))\n",
    "        \n",
    "# 輸入想查詢什麼內容，這裡想要查他的停車位號碼"
   ]
  },
  {
   "cell_type": "code",
   "execution_count": null,
   "id": "7f9dd2ee",
   "metadata": {},
   "outputs": [],
   "source": []
  }
 ],
 "metadata": {
  "kernelspec": {
   "display_name": "Python 3 (ipykernel)",
   "language": "python",
   "name": "python3"
  },
  "language_info": {
   "codemirror_mode": {
    "name": "ipython",
    "version": 3
   },
   "file_extension": ".py",
   "mimetype": "text/x-python",
   "name": "python",
   "nbconvert_exporter": "python",
   "pygments_lexer": "ipython3",
   "version": "3.9.12"
  }
 },
 "nbformat": 4,
 "nbformat_minor": 5
}
