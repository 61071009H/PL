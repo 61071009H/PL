{
 "cells": [
  {
   "cell_type": "code",
   "execution_count": 4,
   "id": "c3f820b4",
   "metadata": {},
   "outputs": [],
   "source": [
    "str = \"刑法第二百八十四條第一項前段之過失傷害罪，法定刑為六月以下有期徒刑、拘役或五百元以下罰金，本條雖未經修正，然據修正後刑法施行法增訂第一條之一\""
   ]
  },
  {
   "cell_type": "code",
   "execution_count": 5,
   "id": "2fc6ff08",
   "metadata": {},
   "outputs": [
    {
     "data": {
      "text/plain": [
       "'刑法第二百八十四條第一項前段之過失傷害罪，法定刑為六月以下有期徒刑、拘役或五百元以下罰金，本條雖未經修正，然據修正後刑法施行法增訂第一條之一'"
      ]
     },
     "execution_count": 5,
     "metadata": {},
     "output_type": "execute_result"
    }
   ],
   "source": [
    "str"
   ]
  },
  {
   "cell_type": "code",
   "execution_count": 6,
   "id": "8686c7f2",
   "metadata": {},
   "outputs": [
    {
     "name": "stdout",
     "output_type": "stream",
     "text": [
      "刑法第二百八十四條第一項前段之過失傷害罪，法定刑為六月以下有期徒刑、拘役或五百元以下罰金，本條雖未經修正，然據修正後刑法施行法增訂第一條之一\n"
     ]
    }
   ],
   "source": [
    "print(str)"
   ]
  },
  {
   "cell_type": "code",
   "execution_count": 21,
   "id": "21ecb57e",
   "metadata": {},
   "outputs": [],
   "source": [
    "money=500\n",
    "month=6"
   ]
  },
  {
   "cell_type": "code",
   "execution_count": 22,
   "id": "71216331",
   "metadata": {},
   "outputs": [
    {
     "data": {
      "text/plain": [
       "500"
      ]
     },
     "execution_count": 22,
     "metadata": {},
     "output_type": "execute_result"
    }
   ],
   "source": [
    "money"
   ]
  },
  {
   "cell_type": "code",
   "execution_count": 23,
   "id": "eee25f50",
   "metadata": {},
   "outputs": [
    {
     "data": {
      "text/plain": [
       "6"
      ]
     },
     "execution_count": 23,
     "metadata": {},
     "output_type": "execute_result"
    }
   ],
   "source": [
    "month"
   ]
  },
  {
   "cell_type": "code",
   "execution_count": 24,
   "id": "e578621c",
   "metadata": {},
   "outputs": [
    {
     "name": "stdout",
     "output_type": "stream",
     "text": [
      "500\n"
     ]
    }
   ],
   "source": [
    "print(money)"
   ]
  },
  {
   "cell_type": "code",
   "execution_count": 25,
   "id": "64540087",
   "metadata": {},
   "outputs": [
    {
     "name": "stdout",
     "output_type": "stream",
     "text": [
      "6\n"
     ]
    }
   ],
   "source": [
    "print(month)"
   ]
  },
  {
   "cell_type": "code",
   "execution_count": 26,
   "id": "1086b173",
   "metadata": {},
   "outputs": [
    {
     "name": "stdout",
     "output_type": "stream",
     "text": [
      "罰金 500 元\n"
     ]
    }
   ],
   "source": [
    "print(\"罰金\",money,\"元\")"
   ]
  },
  {
   "cell_type": "code",
   "execution_count": 48,
   "id": "be36d1c4",
   "metadata": {},
   "outputs": [
    {
     "name": "stdout",
     "output_type": "stream",
     "text": [
      "被告應負擔 17981 元整\n",
      "原告應負擔 7706 元整\n"
     ]
    }
   ],
   "source": [
    "#題目1_自己解\n",
    "A=0.7\n",
    "B=0.3\n",
    "money=25688\n",
    "print(\"被告應負擔\",int(money*A),\"元整\")  #小筆記_應該要再多一行 先計算money*a是多少錢 直接帶入\n",
    "print(\"原告應負擔\",int(money*B),\"元整\")"
   ]
  },
  {
   "cell_type": "code",
   "execution_count": 49,
   "id": "df5bd7ed",
   "metadata": {},
   "outputs": [
    {
     "name": "stdout",
     "output_type": "stream",
     "text": [
      "事件： 車禍肇事判賠\n",
      "原告需賠償金額: 7706 元\n",
      "被告需賠償金額: 17981 元\n"
     ]
    }
   ],
   "source": [
    "#題目1_老師解\n",
    "event=\"車禍肇事判賠\"\n",
    "sum_money=25688\n",
    "a_rate=0.3\n",
    "b_rate=0.7\n",
    "a_money=sum_money*a_rate\n",
    "b_money=sum_money*b_rate\n",
    "print(\"事件：\",event)\n",
    "print(\"原告需賠償金額:\",int(a_money),\"元\")\n",
    "print(\"被告需賠償金額:\",int(b_money),\"元\")"
   ]
  },
  {
   "cell_type": "code",
   "execution_count": null,
   "id": "38e5688c",
   "metadata": {},
   "outputs": [],
   "source": []
  }
 ],
 "metadata": {
  "kernelspec": {
   "display_name": "Python 3 (ipykernel)",
   "language": "python",
   "name": "python3"
  },
  "language_info": {
   "codemirror_mode": {
    "name": "ipython",
    "version": 3
   },
   "file_extension": ".py",
   "mimetype": "text/x-python",
   "name": "python",
   "nbconvert_exporter": "python",
   "pygments_lexer": "ipython3",
   "version": "3.9.12"
  }
 },
 "nbformat": 4,
 "nbformat_minor": 5
}
