{
 "cells": [
  {
   "cell_type": "code",
   "execution_count": 3,
   "id": "fc6f5da6",
   "metadata": {},
   "outputs": [
    {
     "name": "stdout",
     "output_type": "stream",
     "text": [
      "小丁丁需支付 12608 元整\n"
     ]
    }
   ],
   "source": [
    "#題目二_回家練習\n",
    "money=11805\n",
    "month_money=450\n",
    "rate=0.0005\n",
    "days=59\n",
    "rate_money=money*(1+rate)**days\n",
    "total_money=(month_money+rate_money)\n",
    "\n",
    "print(\"小丁丁需支付\",int(total_money),\"元整\")"
   ]
  },
  {
   "cell_type": "code",
   "execution_count": null,
   "id": "ea01a757",
   "metadata": {},
   "outputs": [],
   "source": [
    "#題目三_回家練習\n"
   ]
  }
 ],
 "metadata": {
  "kernelspec": {
   "display_name": "Python 3 (ipykernel)",
   "language": "python",
   "name": "python3"
  },
  "language_info": {
   "codemirror_mode": {
    "name": "ipython",
    "version": 3
   },
   "file_extension": ".py",
   "mimetype": "text/x-python",
   "name": "python",
   "nbconvert_exporter": "python",
   "pygments_lexer": "ipython3",
   "version": "3.9.12"
  }
 },
 "nbformat": 4,
 "nbformat_minor": 5
}
